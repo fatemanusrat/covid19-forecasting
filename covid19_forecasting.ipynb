{
  "nbformat": 4,
  "nbformat_minor": 0,
  "metadata": {
    "colab": {
      "name": "covid19 forecasting.ipynb",
      "provenance": [],
      "authorship_tag": "ABX9TyOMDBWqYt8HwjavxT+mk1Px",
      "include_colab_link": true
    },
    "kernelspec": {
      "name": "python3",
      "display_name": "Python 3"
    },
    "accelerator": "GPU"
  },
  "cells": [
    {
      "cell_type": "markdown",
      "metadata": {
        "id": "view-in-github",
        "colab_type": "text"
      },
      "source": [
        "<a href=\"https://colab.research.google.com/github/fatemanusrat/covid19-forecasting/blob/main/covid19_forecasting.ipynb\" target=\"_parent\"><img src=\"https://colab.research.google.com/assets/colab-badge.svg\" alt=\"Open In Colab\"/></a>"
      ]
    },
    {
      "cell_type": "markdown",
      "metadata": {
        "id": "qvnRqfVrhZwb"
      },
      "source": [
        "Covid19 Forecasting after 30"
      ]
    },
    {
      "cell_type": "code",
      "metadata": {
        "colab": {
          "resources": {
            "http://localhost:8080/nbextensions/google.colab/files.js": {
              "data": "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",
              "ok": true,
              "headers": [
                [
                  "content-type",
                  "application/javascript"
                ]
              ],
              "status": 200,
              "status_text": ""
            }
          },
          "base_uri": "https://localhost:8080/",
          "height": 73
        },
        "id": "TDxNIW7xl25K",
        "outputId": "b5b027bc-b0fa-40be-b91b-394b5e8024eb"
      },
      "source": [
        "from google.colab import files\n",
        "uploaded = files.upload()"
      ],
      "execution_count": 184,
      "outputs": [
        {
          "output_type": "display_data",
          "data": {
            "text/html": [
              "\n",
              "     <input type=\"file\" id=\"files-70f1db95-8db5-4f09-9c30-164787cd36f2\" name=\"files[]\" multiple disabled\n",
              "        style=\"border:none\" />\n",
              "     <output id=\"result-70f1db95-8db5-4f09-9c30-164787cd36f2\">\n",
              "      Upload widget is only available when the cell has been executed in the\n",
              "      current browser session. Please rerun this cell to enable.\n",
              "      </output>\n",
              "      <script src=\"/nbextensions/google.colab/files.js\"></script> "
            ],
            "text/plain": [
              "<IPython.core.display.HTML object>"
            ]
          },
          "metadata": {
            "tags": []
          }
        },
        {
          "output_type": "stream",
          "text": [
            "Saving turkey_covid19_all.csv to turkey_covid19_all (2).csv\n"
          ],
          "name": "stdout"
        }
      ]
    },
    {
      "cell_type": "code",
      "metadata": {
        "colab": {
          "base_uri": "https://localhost:8080/",
          "height": 198
        },
        "id": "RAmqkPeImxWc",
        "outputId": "071e66c4-962c-4049-fffb-448069dc288d"
      },
      "source": [
        "import pandas as pd\n",
        "df=pd.read_csv(\"/content/turkey_covid19_all.csv\")\n",
        "df.head()"
      ],
      "execution_count": 185,
      "outputs": [
        {
          "output_type": "execute_result",
          "data": {
            "text/html": [
              "<div>\n",
              "<style scoped>\n",
              "    .dataframe tbody tr th:only-of-type {\n",
              "        vertical-align: middle;\n",
              "    }\n",
              "\n",
              "    .dataframe tbody tr th {\n",
              "        vertical-align: top;\n",
              "    }\n",
              "\n",
              "    .dataframe thead th {\n",
              "        text-align: right;\n",
              "    }\n",
              "</style>\n",
              "<table border=\"1\" class=\"dataframe\">\n",
              "  <thead>\n",
              "    <tr style=\"text-align: right;\">\n",
              "      <th></th>\n",
              "      <th>Country/Region</th>\n",
              "      <th>Latitude</th>\n",
              "      <th>Longitude</th>\n",
              "      <th>Confirmed</th>\n",
              "      <th>Recovered</th>\n",
              "      <th>Deaths</th>\n",
              "      <th>Date</th>\n",
              "      <th>Tests</th>\n",
              "    </tr>\n",
              "  </thead>\n",
              "  <tbody>\n",
              "    <tr>\n",
              "      <th>0</th>\n",
              "      <td>Turkey</td>\n",
              "      <td>38.9637</td>\n",
              "      <td>35.2433</td>\n",
              "      <td>1.0</td>\n",
              "      <td>0.0</td>\n",
              "      <td>0.0</td>\n",
              "      <td>2020-03-11</td>\n",
              "      <td>0</td>\n",
              "    </tr>\n",
              "    <tr>\n",
              "      <th>1</th>\n",
              "      <td>Turkey</td>\n",
              "      <td>38.9637</td>\n",
              "      <td>35.2433</td>\n",
              "      <td>1.0</td>\n",
              "      <td>0.0</td>\n",
              "      <td>0.0</td>\n",
              "      <td>2020-03-12</td>\n",
              "      <td>0</td>\n",
              "    </tr>\n",
              "    <tr>\n",
              "      <th>2</th>\n",
              "      <td>Turkey</td>\n",
              "      <td>38.9637</td>\n",
              "      <td>35.2433</td>\n",
              "      <td>5.0</td>\n",
              "      <td>0.0</td>\n",
              "      <td>0.0</td>\n",
              "      <td>2020-03-13</td>\n",
              "      <td>0</td>\n",
              "    </tr>\n",
              "    <tr>\n",
              "      <th>3</th>\n",
              "      <td>Turkey</td>\n",
              "      <td>38.9637</td>\n",
              "      <td>35.2433</td>\n",
              "      <td>5.0</td>\n",
              "      <td>0.0</td>\n",
              "      <td>0.0</td>\n",
              "      <td>2020-03-14</td>\n",
              "      <td>0</td>\n",
              "    </tr>\n",
              "    <tr>\n",
              "      <th>4</th>\n",
              "      <td>Turkey</td>\n",
              "      <td>38.9637</td>\n",
              "      <td>35.2433</td>\n",
              "      <td>6.0</td>\n",
              "      <td>0.0</td>\n",
              "      <td>0.0</td>\n",
              "      <td>2020-03-15</td>\n",
              "      <td>0</td>\n",
              "    </tr>\n",
              "  </tbody>\n",
              "</table>\n",
              "</div>"
            ],
            "text/plain": [
              "  Country/Region  Latitude  Longitude  ...  Deaths        Date  Tests\n",
              "0         Turkey   38.9637    35.2433  ...     0.0  2020-03-11      0\n",
              "1         Turkey   38.9637    35.2433  ...     0.0  2020-03-12      0\n",
              "2         Turkey   38.9637    35.2433  ...     0.0  2020-03-13      0\n",
              "3         Turkey   38.9637    35.2433  ...     0.0  2020-03-14      0\n",
              "4         Turkey   38.9637    35.2433  ...     0.0  2020-03-15      0\n",
              "\n",
              "[5 rows x 8 columns]"
            ]
          },
          "metadata": {
            "tags": []
          },
          "execution_count": 185
        }
      ]
    },
    {
      "cell_type": "code",
      "metadata": {
        "colab": {
          "base_uri": "https://localhost:8080/",
          "height": 198
        },
        "id": "XnItfXVnm9TN",
        "outputId": "20817552-feed-485f-a570-a7e5bac69b0c"
      },
      "source": [
        "df.tail()"
      ],
      "execution_count": 186,
      "outputs": [
        {
          "output_type": "execute_result",
          "data": {
            "text/html": [
              "<div>\n",
              "<style scoped>\n",
              "    .dataframe tbody tr th:only-of-type {\n",
              "        vertical-align: middle;\n",
              "    }\n",
              "\n",
              "    .dataframe tbody tr th {\n",
              "        vertical-align: top;\n",
              "    }\n",
              "\n",
              "    .dataframe thead th {\n",
              "        text-align: right;\n",
              "    }\n",
              "</style>\n",
              "<table border=\"1\" class=\"dataframe\">\n",
              "  <thead>\n",
              "    <tr style=\"text-align: right;\">\n",
              "      <th></th>\n",
              "      <th>Country/Region</th>\n",
              "      <th>Latitude</th>\n",
              "      <th>Longitude</th>\n",
              "      <th>Confirmed</th>\n",
              "      <th>Recovered</th>\n",
              "      <th>Deaths</th>\n",
              "      <th>Date</th>\n",
              "      <th>Tests</th>\n",
              "    </tr>\n",
              "  </thead>\n",
              "  <tbody>\n",
              "    <tr>\n",
              "      <th>254</th>\n",
              "      <td>Turkey</td>\n",
              "      <td>38.9637</td>\n",
              "      <td>35.2433</td>\n",
              "      <td>435273.0</td>\n",
              "      <td>367592.0</td>\n",
              "      <td>12084.0</td>\n",
              "      <td>2020-11-20</td>\n",
              "      <td>156642</td>\n",
              "    </tr>\n",
              "    <tr>\n",
              "      <th>255</th>\n",
              "      <td>Turkey</td>\n",
              "      <td>38.9637</td>\n",
              "      <td>35.2433</td>\n",
              "      <td>440805.0</td>\n",
              "      <td>370825.0</td>\n",
              "      <td>12219.0</td>\n",
              "      <td>2020-11-21</td>\n",
              "      <td>152214</td>\n",
              "    </tr>\n",
              "    <tr>\n",
              "      <th>256</th>\n",
              "      <td>Turkey</td>\n",
              "      <td>38.9637</td>\n",
              "      <td>35.2433</td>\n",
              "      <td>446822.0</td>\n",
              "      <td>374637.0</td>\n",
              "      <td>12358.0</td>\n",
              "      <td>2020-11-22</td>\n",
              "      <td>155516</td>\n",
              "    </tr>\n",
              "    <tr>\n",
              "      <th>257</th>\n",
              "      <td>Turkey</td>\n",
              "      <td>38.9637</td>\n",
              "      <td>35.2433</td>\n",
              "      <td>453535.0</td>\n",
              "      <td>377891.0</td>\n",
              "      <td>12511.0</td>\n",
              "      <td>2020-11-23</td>\n",
              "      <td>161125</td>\n",
              "    </tr>\n",
              "    <tr>\n",
              "      <th>258</th>\n",
              "      <td>Turkey</td>\n",
              "      <td>38.9637</td>\n",
              "      <td>35.2433</td>\n",
              "      <td>460916.0</td>\n",
              "      <td>381569.0</td>\n",
              "      <td>12672.0</td>\n",
              "      <td>2020-11-24</td>\n",
              "      <td>162231</td>\n",
              "    </tr>\n",
              "  </tbody>\n",
              "</table>\n",
              "</div>"
            ],
            "text/plain": [
              "    Country/Region  Latitude  Longitude  ...   Deaths        Date   Tests\n",
              "254         Turkey   38.9637    35.2433  ...  12084.0  2020-11-20  156642\n",
              "255         Turkey   38.9637    35.2433  ...  12219.0  2020-11-21  152214\n",
              "256         Turkey   38.9637    35.2433  ...  12358.0  2020-11-22  155516\n",
              "257         Turkey   38.9637    35.2433  ...  12511.0  2020-11-23  161125\n",
              "258         Turkey   38.9637    35.2433  ...  12672.0  2020-11-24  162231\n",
              "\n",
              "[5 rows x 8 columns]"
            ]
          },
          "metadata": {
            "tags": []
          },
          "execution_count": 186
        }
      ]
    },
    {
      "cell_type": "code",
      "metadata": {
        "colab": {
          "base_uri": "https://localhost:8080/"
        },
        "id": "HryGFyUpK9Zo",
        "outputId": "417ba5dc-075a-4ec1-e249-bbc2ad8bc23f"
      },
      "source": [
        "df.shape "
      ],
      "execution_count": 187,
      "outputs": [
        {
          "output_type": "execute_result",
          "data": {
            "text/plain": [
              "(259, 8)"
            ]
          },
          "metadata": {
            "tags": []
          },
          "execution_count": 187
        }
      ]
    },
    {
      "cell_type": "code",
      "metadata": {
        "colab": {
          "base_uri": "https://localhost:8080/"
        },
        "id": "eL8WSSm3nwmz",
        "outputId": "ad16aa14-0eec-44a1-8ea8-fa0586f0f4a3"
      },
      "source": [
        "df_deaths=df.reset_index()['Deaths']\n",
        "df_deaths"
      ],
      "execution_count": 188,
      "outputs": [
        {
          "output_type": "execute_result",
          "data": {
            "text/plain": [
              "0          0.0\n",
              "1          0.0\n",
              "2          0.0\n",
              "3          0.0\n",
              "4          0.0\n",
              "        ...   \n",
              "254    12084.0\n",
              "255    12219.0\n",
              "256    12358.0\n",
              "257    12511.0\n",
              "258    12672.0\n",
              "Name: Deaths, Length: 259, dtype: float64"
            ]
          },
          "metadata": {
            "tags": []
          },
          "execution_count": 188
        }
      ]
    },
    {
      "cell_type": "code",
      "metadata": {
        "colab": {
          "base_uri": "https://localhost:8080/"
        },
        "id": "BWemFDFd4wxL",
        "outputId": "5150a7ec-265b-4a2e-a270-8072bf677474"
      },
      "source": [
        "df_recovered=df.reset_index()['Recovered']\n",
        "df_recovered"
      ],
      "execution_count": 189,
      "outputs": [
        {
          "output_type": "execute_result",
          "data": {
            "text/plain": [
              "0           0.0\n",
              "1           0.0\n",
              "2           0.0\n",
              "3           0.0\n",
              "4           0.0\n",
              "         ...   \n",
              "254    367592.0\n",
              "255    370825.0\n",
              "256    374637.0\n",
              "257    377891.0\n",
              "258    381569.0\n",
              "Name: Recovered, Length: 259, dtype: float64"
            ]
          },
          "metadata": {
            "tags": []
          },
          "execution_count": 189
        }
      ]
    },
    {
      "cell_type": "markdown",
      "metadata": {
        "id": "jB-GG3455XEa"
      },
      "source": [
        "By using matplotlib shown the total deaths and recovered graph"
      ]
    },
    {
      "cell_type": "code",
      "metadata": {
        "colab": {
          "base_uri": "https://localhost:8080/",
          "height": 545
        },
        "id": "pcebJm2NprG8",
        "outputId": "d0949cc0-b520-4128-89a0-4d049c922a4f"
      },
      "source": [
        "import matplotlib.pyplot as plt\n",
        "plt.plot(df_deaths)\n",
        "plt.title('Deaths')\n",
        "plt.show()\n",
        "plt.plot(df_recovered)\n",
        "plt.title('Recoverd')\n",
        "plt.show()"
      ],
      "execution_count": 190,
      "outputs": [
        {
          "output_type": "display_data",
          "data": {
            "image/png": "[encoded data removed]",
            "text/plain": [
              "<Figure size 432x288 with 1 Axes>"
            ]
          },
          "metadata": {
            "tags": [],
            "needs_background": "light"
          }
        },
        {
          "output_type": "display_data",
          "data": {
            "image/png": "[encoded data removed]",
            "text/plain": [
              "<Figure size 432x288 with 1 Axes>"
            ]
          },
          "metadata": {
            "tags": [],
            "needs_background": "light"
          }
        }
      ]
    },
    {
      "cell_type": "code",
      "metadata": {
        "colab": {
          "base_uri": "https://localhost:8080/"
        },
        "id": "z2M1n4CNp0QW",
        "outputId": "d402b2ae-1adb-4e79-fd8d-74de3de72aea"
      },
      "source": [
        "import numpy as np\n",
        "df_deaths"
      ],
      "execution_count": 191,
      "outputs": [
        {
          "output_type": "execute_result",
          "data": {
            "text/plain": [
              "0          0.0\n",
              "1          0.0\n",
              "2          0.0\n",
              "3          0.0\n",
              "4          0.0\n",
              "        ...   \n",
              "254    12084.0\n",
              "255    12219.0\n",
              "256    12358.0\n",
              "257    12511.0\n",
              "258    12672.0\n",
              "Name: Deaths, Length: 259, dtype: float64"
            ]
          },
          "metadata": {
            "tags": []
          },
          "execution_count": 191
        }
      ]
    },
    {
      "cell_type": "code",
      "metadata": {
        "colab": {
          "base_uri": "https://localhost:8080/"
        },
        "id": "OapnkFwxO4_m",
        "outputId": "e6a559b9-7b51-4b68-bad1-882b79c0c755"
      },
      "source": [
        "import numpy as np\n",
        "df_recovered"
      ],
      "execution_count": 192,
      "outputs": [
        {
          "output_type": "execute_result",
          "data": {
            "text/plain": [
              "0           0.0\n",
              "1           0.0\n",
              "2           0.0\n",
              "3           0.0\n",
              "4           0.0\n",
              "         ...   \n",
              "254    367592.0\n",
              "255    370825.0\n",
              "256    374637.0\n",
              "257    377891.0\n",
              "258    381569.0\n",
              "Name: Recovered, Length: 259, dtype: float64"
            ]
          },
          "metadata": {
            "tags": []
          },
          "execution_count": 192
        }
      ]
    },
    {
      "cell_type": "markdown",
      "metadata": {
        "id": "sNdUM8Sq5u9V"
      },
      "source": [
        "Normalize it by using MinMaxScaler"
      ]
    },
    {
      "cell_type": "code",
      "metadata": {
        "id": "tmEBI1plqAAE"
      },
      "source": [
        "from sklearn.preprocessing import MinMaxScaler\n",
        "scaler=MinMaxScaler(feature_range=(0,1))\n",
        "df_deaths=scaler.fit_transform(np.array(df_deaths).reshape(-1,1))\n",
        "df_recovered=scaler.fit_transform(np.array(df_recovered).reshape(-1,1))"
      ],
      "execution_count": 193,
      "outputs": []
    },
    {
      "cell_type": "code",
      "metadata": {
        "colab": {
          "base_uri": "https://localhost:8080/"
        },
        "id": "mMSMQWNGqMGL",
        "outputId": "c19193fb-ef13-4666-81e3-8f141f7bc581"
      },
      "source": [
        "print(df_deaths)"
      ],
      "execution_count": 194,
      "outputs": [
        {
          "output_type": "stream",
          "text": [
            "[[0.00000000e+00]\n",
            " [0.00000000e+00]\n",
            " [0.00000000e+00]\n",
            " [0.00000000e+00]\n",
            " [0.00000000e+00]\n",
            " [0.00000000e+00]\n",
            " [7.89141414e-05]\n",
            " [7.89141414e-05]\n",
            " [2.36742424e-04]\n",
            " [3.15656566e-04]\n",
            " [7.10227273e-04]\n",
            " [2.36742424e-03]\n",
            " [2.91982323e-03]\n",
            " [3.47222222e-03]\n",
            " [4.65593434e-03]\n",
            " [5.91856061e-03]\n",
            " [7.26010101e-03]\n",
            " [8.52272727e-03]\n",
            " [1.03377525e-02]\n",
            " [1.32575758e-02]\n",
            " [1.68876263e-02]\n",
            " [2.18592172e-02]\n",
            " [2.80934343e-02]\n",
            " [3.35385101e-02]\n",
            " [3.95359848e-02]\n",
            " [4.52967172e-02]\n",
            " [5.12152778e-02]\n",
            " [5.72127525e-02]\n",
            " [6.40782828e-02]\n",
            " [7.16540404e-02]\n",
            " [7.93876263e-02]\n",
            " [8.68844697e-02]\n",
            " [9.45391414e-02]\n",
            " [1.02272727e-01]\n",
            " [1.10716540e-01]\n",
            " [1.19791667e-01]\n",
            " [1.29655934e-01]\n",
            " [1.39599116e-01]\n",
            " [1.49147727e-01]\n",
            " [1.59169823e-01]\n",
            " [1.68876263e-01]\n",
            " [1.78267045e-01]\n",
            " [1.87500000e-01]\n",
            " [1.96575126e-01]\n",
            " [2.05176768e-01]\n",
            " [2.13541667e-01]\n",
            " [2.21354167e-01]\n",
            " [2.28851010e-01]\n",
            " [2.36111111e-01]\n",
            " [2.43134470e-01]\n",
            " [2.50473485e-01]\n",
            " [2.57102273e-01]\n",
            " [2.63257576e-01]\n",
            " [2.68071338e-01]\n",
            " [2.73121843e-01]\n",
            " [2.77777778e-01]\n",
            " [2.82828283e-01]\n",
            " [2.87326389e-01]\n",
            " [2.91114268e-01]\n",
            " [2.95059975e-01]\n",
            " [2.98768939e-01]\n",
            " [3.03109217e-01]\n",
            " [3.07291667e-01]\n",
            " [3.11868687e-01]\n",
            " [3.16208965e-01]\n",
            " [3.19996843e-01]\n",
            " [3.23232323e-01]\n",
            " [3.26704545e-01]\n",
            " [3.29150884e-01]\n",
            " [3.31360480e-01]\n",
            " [3.33175505e-01]\n",
            " [3.35306187e-01]\n",
            " [3.37436869e-01]\n",
            " [3.39962121e-01]\n",
            " [3.42487374e-01]\n",
            " [3.44775884e-01]\n",
            " [3.46985480e-01]\n",
            " [3.49668561e-01]\n",
            " [3.52035985e-01]\n",
            " [3.54245581e-01]\n",
            " [3.56297348e-01]\n",
            " [3.58270202e-01]\n",
            " [3.60085227e-01]\n",
            " [3.61821338e-01]\n",
            " [3.63715278e-01]\n",
            " [3.65372475e-01]\n",
            " [3.66792929e-01]\n",
            " [3.68450126e-01]\n",
            " [3.70265152e-01]\n",
            " [3.71764520e-01]\n",
            " [3.73184975e-01]\n",
            " [3.74526515e-01]\n",
            " [3.75868056e-01]\n",
            " [3.77051768e-01]\n",
            " [3.78156566e-01]\n",
            " [3.79340278e-01]\n",
            " [3.80760732e-01]\n",
            " [3.82102273e-01]\n",
            " [3.83601641e-01]\n",
            " [3.85258838e-01]\n",
            " [3.87073864e-01]\n",
            " [3.88809975e-01]\n",
            " [3.90625000e-01]\n",
            " [3.92518939e-01]\n",
            " [3.94649621e-01]\n",
            " [3.96543561e-01]\n",
            " [3.98200758e-01]\n",
            " [3.99700126e-01]\n",
            " [4.01041667e-01]\n",
            " [4.02225379e-01]\n",
            " [4.03645833e-01]\n",
            " [4.04908460e-01]\n",
            " [4.06407828e-01]\n",
            " [4.07749369e-01]\n",
            " [4.09248737e-01]\n",
            " [4.10827020e-01]\n",
            " [4.12326389e-01]\n",
            " [4.13589015e-01]\n",
            " [4.15088384e-01]\n",
            " [4.16824495e-01]\n",
            " [4.18244949e-01]\n",
            " [4.20059975e-01]\n",
            " [4.21717172e-01]\n",
            " [4.23216540e-01]\n",
            " [4.24715909e-01]\n",
            " [4.26294192e-01]\n",
            " [4.27635732e-01]\n",
            " [4.29292929e-01]\n",
            " [4.30713384e-01]\n",
            " [4.32054924e-01]\n",
            " [4.33317551e-01]\n",
            " [4.34659091e-01]\n",
            " [4.36079545e-01]\n",
            " [4.37578914e-01]\n",
            " [4.38999369e-01]\n",
            " [4.40340909e-01]\n",
            " [4.41603535e-01]\n",
            " [4.42945076e-01]\n",
            " [4.44286616e-01]\n",
            " [4.45470328e-01]\n",
            " [4.46575126e-01]\n",
            " [4.47758838e-01]\n",
            " [4.49100379e-01]\n",
            " [4.50599747e-01]\n",
            " [4.52020202e-01]\n",
            " [4.53519571e-01]\n",
            " [4.54940025e-01]\n",
            " [4.56439394e-01]\n",
            " [4.57544192e-01]\n",
            " [4.58727904e-01]\n",
            " [4.59990530e-01]\n",
            " [4.61174242e-01]\n",
            " [4.62279040e-01]\n",
            " [4.63462753e-01]\n",
            " [4.64883207e-01]\n",
            " [4.66540404e-01]\n",
            " [4.68276515e-01]\n",
            " [4.69933712e-01]\n",
            " [4.71433081e-01]\n",
            " [4.73169192e-01]\n",
            " [4.74747475e-01]\n",
            " [4.76562500e-01]\n",
            " [4.78061869e-01]\n",
            " [4.79797980e-01]\n",
            " [4.81534091e-01]\n",
            " [4.83033460e-01]\n",
            " [4.84453914e-01]\n",
            " [4.86347854e-01]\n",
            " [4.87926136e-01]\n",
            " [4.89977904e-01]\n",
            " [4.92818813e-01]\n",
            " [4.95896465e-01]\n",
            " [4.99210859e-01]\n",
            " [5.02683081e-01]\n",
            " [5.06392045e-01]\n",
            " [5.09943182e-01]\n",
            " [5.13809975e-01]\n",
            " [5.17992424e-01]\n",
            " [5.22411616e-01]\n",
            " [5.26594066e-01]\n",
            " [5.31092172e-01]\n",
            " [5.35195707e-01]\n",
            " [5.39535985e-01]\n",
            " [5.44113005e-01]\n",
            " [5.48532197e-01]\n",
            " [5.52320076e-01]\n",
            " [5.56818182e-01]\n",
            " [5.61789773e-01]\n",
            " [5.67077020e-01]\n",
            " [5.72048611e-01]\n",
            " [5.77256944e-01]\n",
            " [5.82149621e-01]\n",
            " [5.87515783e-01]\n",
            " [5.92329545e-01]\n",
            " [5.97695707e-01]\n",
            " [6.02825126e-01]\n",
            " [6.08506944e-01]\n",
            " [6.14346591e-01]\n",
            " [6.20107323e-01]\n",
            " [6.25710227e-01]\n",
            " [6.31076389e-01]\n",
            " [6.36205808e-01]\n",
            " [6.41571970e-01]\n",
            " [6.46701389e-01]\n",
            " [6.51988636e-01]\n",
            " [6.56960227e-01]\n",
            " [6.61616162e-01]\n",
            " [6.66114268e-01]\n",
            " [6.70612374e-01]\n",
            " [6.74952652e-01]\n",
            " [6.79371843e-01]\n",
            " [6.83948864e-01]\n",
            " [6.88289141e-01]\n",
            " [6.92708333e-01]\n",
            " [6.97364268e-01]\n",
            " [7.01941288e-01]\n",
            " [7.06833965e-01]\n",
            " [7.11332071e-01]\n",
            " [7.16540404e-01]\n",
            " [7.22301136e-01]\n",
            " [7.27904040e-01]\n",
            " [7.33585859e-01]\n",
            " [7.39504419e-01]\n",
            " [7.45344066e-01]\n",
            " [7.50710227e-01]\n",
            " [7.56313131e-01]\n",
            " [7.62152778e-01]\n",
            " [7.67597854e-01]\n",
            " [7.73279672e-01]\n",
            " [7.79198232e-01]\n",
            " [7.85195707e-01]\n",
            " [7.91272096e-01]\n",
            " [7.96953914e-01]\n",
            " [8.03109217e-01]\n",
            " [8.09027778e-01]\n",
            " [8.14867424e-01]\n",
            " [8.20864899e-01]\n",
            " [8.27099116e-01]\n",
            " [8.33175505e-01]\n",
            " [8.39567551e-01]\n",
            " [8.46117424e-01]\n",
            " [8.52509470e-01]\n",
            " [8.59138258e-01]\n",
            " [8.65845960e-01]\n",
            " [8.72711490e-01]\n",
            " [8.79498106e-01]\n",
            " [8.86442551e-01]\n",
            " [8.93781566e-01]\n",
            " [9.01041667e-01]\n",
            " [9.08065025e-01]\n",
            " [9.15482955e-01]\n",
            " [9.23611111e-01]\n",
            " [9.32765152e-01]\n",
            " [9.42471591e-01]\n",
            " [9.53598485e-01]\n",
            " [9.64251894e-01]\n",
            " [9.75220960e-01]\n",
            " [9.87294823e-01]\n",
            " [1.00000000e+00]]\n"
          ],
          "name": "stdout"
        }
      ]
    },
    {
      "cell_type": "code",
      "metadata": {
        "colab": {
          "base_uri": "https://localhost:8080/"
        },
        "id": "VEVcxETtQA5L",
        "outputId": "603bcd98-6481-41af-a92c-fca4a53239cb"
      },
      "source": [
        "print(df_recovered)"
      ],
      "execution_count": 195,
      "outputs": [
        {
          "output_type": "stream",
          "text": [
            "[[0.00000000e+00]\n",
            " [0.00000000e+00]\n",
            " [0.00000000e+00]\n",
            " [0.00000000e+00]\n",
            " [0.00000000e+00]\n",
            " [0.00000000e+00]\n",
            " [0.00000000e+00]\n",
            " [0.00000000e+00]\n",
            " [0.00000000e+00]\n",
            " [0.00000000e+00]\n",
            " [0.00000000e+00]\n",
            " [0.00000000e+00]\n",
            " [0.00000000e+00]\n",
            " [0.00000000e+00]\n",
            " [6.81397074e-05]\n",
            " [6.81397074e-05]\n",
            " [1.10071835e-04]\n",
            " [1.83453058e-04]\n",
            " [2.75179587e-04]\n",
            " [4.24562792e-04]\n",
            " [6.36844188e-04]\n",
            " [8.72712406e-04]\n",
            " [1.08761456e-03]\n",
            " [1.26844686e-03]\n",
            " [2.05991577e-03]\n",
            " [2.73082981e-03]\n",
            " [3.47512508e-03]\n",
            " [4.14603912e-03]\n",
            " [4.83791922e-03]\n",
            " [5.61366358e-03]\n",
            " [6.35009657e-03]\n",
            " [7.77054740e-03]\n",
            " [9.03113198e-03]\n",
            " [1.03703393e-02]\n",
            " [1.25770175e-02]\n",
            " [1.48701808e-02]\n",
            " [1.85785533e-02]\n",
            " [2.26197621e-02]\n",
            " [2.73947831e-02]\n",
            " [3.13861975e-02]\n",
            " [3.51967796e-02]\n",
            " [3.90964675e-02]\n",
            " [4.31822292e-02]\n",
            " [4.84604357e-02]\n",
            " [5.69674161e-02]\n",
            " [6.70442305e-02]\n",
            " [7.63688874e-02]\n",
            " [8.85580328e-02]\n",
            " [1.01708996e-01]\n",
            " [1.15418181e-01]\n",
            " [1.28118374e-01]\n",
            " [1.41017745e-01]\n",
            " [1.52682739e-01]\n",
            " [1.65503487e-01]\n",
            " [1.78646588e-01]\n",
            " [1.92062248e-01]\n",
            " [2.04948515e-01]\n",
            " [2.17480980e-01]\n",
            " [2.26423006e-01]\n",
            " [2.34505424e-01]\n",
            " [2.42920678e-01]\n",
            " [2.51016199e-01]\n",
            " [2.59164135e-01]\n",
            " [2.66570397e-01]\n",
            " [2.72637452e-01]\n",
            " [2.78148906e-01]\n",
            " [2.83400905e-01]\n",
            " [2.88183789e-01]\n",
            " [2.92416313e-01]\n",
            " [2.95870472e-01]\n",
            " [2.98732339e-01]\n",
            " [3.01360960e-01]\n",
            " [3.04298829e-01]\n",
            " [3.08206379e-01]\n",
            " [3.11068247e-01]\n",
            " [3.14530268e-01]\n",
            " [3.18440439e-01]\n",
            " [3.21810734e-01]\n",
            " [3.25941049e-01]\n",
            " [3.30118537e-01]\n",
            " [3.32794331e-01]\n",
            " [3.35386260e-01]\n",
            " [3.37938879e-01]\n",
            " [3.40491497e-01]\n",
            " [3.42931423e-01]\n",
            " [3.45358245e-01]\n",
            " [3.49609114e-01]\n",
            " [3.54646211e-01]\n",
            " [3.61583357e-01]\n",
            " [3.70522763e-01]\n",
            " [3.78956362e-01]\n",
            " [3.84829480e-01]\n",
            " [3.87505274e-01]\n",
            " [3.90760256e-01]\n",
            " [3.93341702e-01]\n",
            " [3.96827310e-01]\n",
            " [3.99309168e-01]\n",
            " [4.01969238e-01]\n",
            " [4.05274013e-01]\n",
            " [4.08895901e-01]\n",
            " [4.12811313e-01]\n",
            " [4.16249748e-01]\n",
            " [4.19950258e-01]\n",
            " [4.23338898e-01]\n",
            " [4.26785195e-01]\n",
            " [4.30417565e-01]\n",
            " [4.34275321e-01]\n",
            " [4.38185492e-01]\n",
            " [4.43385076e-01]\n",
            " [4.47088207e-01]\n",
            " [4.50269807e-01]\n",
            " [4.53682034e-01]\n",
            " [4.59738606e-01]\n",
            " [4.63782435e-01]\n",
            " [4.67223490e-01]\n",
            " [4.70405091e-01]\n",
            " [4.73518551e-01]\n",
            " [4.79585606e-01]\n",
            " [4.85605487e-01]\n",
            " [4.91420949e-01]\n",
            " [4.98966111e-01]\n",
            " [5.02878903e-01]\n",
            " [5.06374994e-01]\n",
            " [5.09776738e-01]\n",
            " [5.12806334e-01]\n",
            " [5.15555509e-01]\n",
            " [5.18210337e-01]\n",
            " [5.21059101e-01]\n",
            " [5.23716549e-01]\n",
            " [5.26806423e-01]\n",
            " [5.29419319e-01]\n",
            " [5.32019111e-01]\n",
            " [5.34663455e-01]\n",
            " [5.37816227e-01]\n",
            " [5.40832720e-01]\n",
            " [5.43477064e-01]\n",
            " [5.46367760e-01]\n",
            " [5.49014726e-01]\n",
            " [5.51588310e-01]\n",
            " [5.54450178e-01]\n",
            " [5.57060453e-01]\n",
            " [5.59634037e-01]\n",
            " [5.62244312e-01]\n",
            " [5.64815276e-01]\n",
            " [5.67378377e-01]\n",
            " [5.70006997e-01]\n",
            " [5.72612031e-01]\n",
            " [5.75272100e-01]\n",
            " [5.77997688e-01]\n",
            " [5.80691828e-01]\n",
            " [5.83527488e-01]\n",
            " [5.86418184e-01]\n",
            " [5.89591922e-01]\n",
            " [5.92697520e-01]\n",
            " [5.95145308e-01]\n",
            " [5.97682202e-01]\n",
            " [6.00101161e-01]\n",
            " [6.02700953e-01]\n",
            " [6.05313849e-01]\n",
            " [6.07939848e-01]\n",
            " [6.10408602e-01]\n",
            " [6.13034602e-01]\n",
            " [6.15346110e-01]\n",
            " [6.17369336e-01]\n",
            " [6.19468563e-01]\n",
            " [6.21552065e-01]\n",
            " [6.23499288e-01]\n",
            " [6.25823901e-01]\n",
            " [6.28449900e-01]\n",
            " [6.31057554e-01]\n",
            " [6.33722865e-01]\n",
            " [6.36351486e-01]\n",
            " [6.39043004e-01]\n",
            " [6.41891768e-01]\n",
            " [6.44520388e-01]\n",
            " [6.47002246e-01]\n",
            " [6.50175984e-01]\n",
            " [6.52851778e-01]\n",
            " [6.55430604e-01]\n",
            " [6.58085431e-01]\n",
            " [6.60829365e-01]\n",
            " [6.63693854e-01]\n",
            " [6.66165228e-01]\n",
            " [6.69359932e-01]\n",
            " [6.72287319e-01]\n",
            " [6.75450574e-01]\n",
            " [6.78338649e-01]\n",
            " [6.81549078e-01]\n",
            " [6.84699229e-01]\n",
            " [6.88216286e-01]\n",
            " [6.91211812e-01]\n",
            " [6.93989816e-01]\n",
            " [6.97428250e-01]\n",
            " [7.00353016e-01]\n",
            " [7.03503167e-01]\n",
            " [7.06807943e-01]\n",
            " [7.09499461e-01]\n",
            " [7.12751822e-01]\n",
            " [7.16205981e-01]\n",
            " [7.19434755e-01]\n",
            " [7.22359521e-01]\n",
            " [7.26086239e-01]\n",
            " [7.29891579e-01]\n",
            " [7.33154423e-01]\n",
            " [7.36828726e-01]\n",
            " [7.40775587e-01]\n",
            " [7.43949325e-01]\n",
            " [7.47047061e-01]\n",
            " [7.50506461e-01]\n",
            " [7.53727373e-01]\n",
            " [7.57278500e-01]\n",
            " [7.60942320e-01]\n",
            " [7.64616622e-01]\n",
            " [7.68262097e-01]\n",
            " [7.71438455e-01]\n",
            " [7.74848062e-01]\n",
            " [7.78291738e-01]\n",
            " [7.81950316e-01]\n",
            " [7.85386129e-01]\n",
            " [7.89104985e-01]\n",
            " [7.92776667e-01]\n",
            " [7.96718287e-01]\n",
            " [8.00450246e-01]\n",
            " [8.04412832e-01]\n",
            " [8.08362315e-01]\n",
            " [8.12505733e-01]\n",
            " [8.16418525e-01]\n",
            " [8.20540977e-01]\n",
            " [8.23940100e-01]\n",
            " [8.28180486e-01]\n",
            " [8.32140452e-01]\n",
            " [8.36496151e-01]\n",
            " [8.40639570e-01]\n",
            " [8.45102721e-01]\n",
            " [8.49049582e-01]\n",
            " [8.53020030e-01]\n",
            " [8.57006203e-01]\n",
            " [8.61768121e-01]\n",
            " [8.66592936e-01]\n",
            " [8.71084915e-01]\n",
            " [8.76101046e-01]\n",
            " [8.81153867e-01]\n",
            " [8.86442557e-01]\n",
            " [8.91807248e-01]\n",
            " [8.97612227e-01]\n",
            " [9.03147268e-01]\n",
            " [9.08863141e-01]\n",
            " [9.14130865e-01]\n",
            " [9.20153367e-01]\n",
            " [9.26865128e-01]\n",
            " [9.33972624e-01]\n",
            " [9.41017221e-01]\n",
            " [9.47810226e-01]\n",
            " [9.55457597e-01]\n",
            " [9.63369666e-01]\n",
            " [9.71842576e-01]\n",
            " [9.81832906e-01]\n",
            " [9.90360852e-01]\n",
            " [1.00000000e+00]]\n"
          ],
          "name": "stdout"
        }
      ]
    },
    {
      "cell_type": "markdown",
      "metadata": {
        "id": "k9xKPTBE6fzC"
      },
      "source": [
        "Splitting dataset into training (70%) and testing (30%) "
      ]
    },
    {
      "cell_type": "code",
      "metadata": {
        "id": "fCplfyktqPgU"
      },
      "source": [
        "##splitting dataset into train and test split (recovered)\n",
        "training_size=int(len(df_deaths)*0.70)\n",
        "test_size=len(df_deaths)-training_size\n",
        "train_data_d,test_data_d=df_deaths[0:training_size,:],df_deaths[training_size:len(df_deaths),:1]"
      ],
      "execution_count": 196,
      "outputs": []
    },
    {
      "cell_type": "code",
      "metadata": {
        "colab": {
          "base_uri": "https://localhost:8080/"
        },
        "id": "_LBtVO43qXdr",
        "outputId": "02cd22f3-5746-4028-93ec-0cc58783c54c"
      },
      "source": [
        "training_size,test_size"
      ],
      "execution_count": 197,
      "outputs": [
        {
          "output_type": "execute_result",
          "data": {
            "text/plain": [
              "(181, 78)"
            ]
          },
          "metadata": {
            "tags": []
          },
          "execution_count": 197
        }
      ]
    },
    {
      "cell_type": "code",
      "metadata": {
        "id": "07FylUMKUjHr"
      },
      "source": [
        "##splitting dataset into train and test split (recovered)\n",
        "training_size=int(len(df_recovered)*0.70)\n",
        "test_size=len(df_recovered)-training_size\n",
        "train_data_r,test_data_r=df_recovered[0:training_size,:],df_recovered[training_size:len(df_recovered),:1]"
      ],
      "execution_count": 198,
      "outputs": []
    },
    {
      "cell_type": "code",
      "metadata": {
        "colab": {
          "base_uri": "https://localhost:8080/"
        },
        "id": "IIGgiVDDUwEN",
        "outputId": "592aadfa-d7d2-4b6f-dd38-56aa14b7d986"
      },
      "source": [
        "training_size,test_size"
      ],
      "execution_count": 199,
      "outputs": [
        {
          "output_type": "execute_result",
          "data": {
            "text/plain": [
              "(181, 78)"
            ]
          },
          "metadata": {
            "tags": []
          },
          "execution_count": 199
        }
      ]
    },
    {
      "cell_type": "code",
      "metadata": {
        "id": "IK_FkGedqaUK"
      },
      "source": [
        "import numpy\n",
        "# convert an array of values into a dataset matrix\n",
        "def create_dataset(dataset, time_step=1):\n",
        "\tdataX, dataY = [], []\n",
        "\tfor i in range(len(dataset)-time_step-1):\n",
        "\t\ta = dataset[i:(i+time_step), 0]   \n",
        "\t\tdataX.append(a)\n",
        "\t\tdataY.append(dataset[i + time_step, 0])\n",
        "\treturn numpy.array(dataX), numpy.array(dataY)"
      ],
      "execution_count": 200,
      "outputs": []
    },
    {
      "cell_type": "code",
      "metadata": {
        "id": "OMJ9xCm2quNA"
      },
      "source": [
        "# reshape into X=t,t+1,t+2,t+3 and Y=t+4\n",
        "time_step = 10\n",
        "X_train_d, y_train_d = create_dataset(train_data_d, time_step)\n",
        "X_test_d, ytest_d = create_dataset(test_data_d, time_step)\n",
        "X_train_r, y_train_r = create_dataset(train_data_r, time_step)\n",
        "X_test_r, ytest_r = create_dataset(test_data_r, time_step)"
      ],
      "execution_count": 201,
      "outputs": []
    },
    {
      "cell_type": "code",
      "metadata": {
        "colab": {
          "base_uri": "https://localhost:8080/"
        },
        "id": "IV_C2eMIqx4m",
        "outputId": "173fa6b3-808a-4631-868a-6906d296c2e4"
      },
      "source": [
        "print(X_train_d.shape), print(y_train_d.shape)"
      ],
      "execution_count": 202,
      "outputs": [
        {
          "output_type": "stream",
          "text": [
            "(170, 10)\n",
            "(170,)\n"
          ],
          "name": "stdout"
        },
        {
          "output_type": "execute_result",
          "data": {
            "text/plain": [
              "(None, None)"
            ]
          },
          "metadata": {
            "tags": []
          },
          "execution_count": 202
        }
      ]
    },
    {
      "cell_type": "code",
      "metadata": {
        "colab": {
          "base_uri": "https://localhost:8080/"
        },
        "id": "rppQJvrabTZm",
        "outputId": "601506bc-ea18-48ab-aada-1181b565b5a2"
      },
      "source": [
        "print(X_train_r.shape), print(y_train_r.shape)"
      ],
      "execution_count": 203,
      "outputs": [
        {
          "output_type": "stream",
          "text": [
            "(170, 10)\n",
            "(170,)\n"
          ],
          "name": "stdout"
        },
        {
          "output_type": "execute_result",
          "data": {
            "text/plain": [
              "(None, None)"
            ]
          },
          "metadata": {
            "tags": []
          },
          "execution_count": 203
        }
      ]
    },
    {
      "cell_type": "code",
      "metadata": {
        "colab": {
          "base_uri": "https://localhost:8080/"
        },
        "id": "HAB1fQCGq3Dl",
        "outputId": "b834f214-e22a-4c9b-ade7-6bef40a5438a"
      },
      "source": [
        "print(X_test_d.shape), print(ytest_d.shape)"
      ],
      "execution_count": 204,
      "outputs": [
        {
          "output_type": "stream",
          "text": [
            "(67, 10)\n",
            "(67,)\n"
          ],
          "name": "stdout"
        },
        {
          "output_type": "execute_result",
          "data": {
            "text/plain": [
              "(None, None)"
            ]
          },
          "metadata": {
            "tags": []
          },
          "execution_count": 204
        }
      ]
    },
    {
      "cell_type": "code",
      "metadata": {
        "colab": {
          "base_uri": "https://localhost:8080/"
        },
        "id": "iECpNNxkVQOZ",
        "outputId": "1b97cc42-03fc-452a-f7cf-156f8c07ce91"
      },
      "source": [
        "print(X_test_r.shape), print(ytest_r.shape)"
      ],
      "execution_count": 205,
      "outputs": [
        {
          "output_type": "stream",
          "text": [
            "(67, 10)\n",
            "(67,)\n"
          ],
          "name": "stdout"
        },
        {
          "output_type": "execute_result",
          "data": {
            "text/plain": [
              "(None, None)"
            ]
          },
          "metadata": {
            "tags": []
          },
          "execution_count": 205
        }
      ]
    },
    {
      "cell_type": "code",
      "metadata": {
        "id": "9nccn-kPq8Hy"
      },
      "source": [
        "# reshape input to be [samples, time steps, features] which is required for LSTM\n",
        "X_train_d =X_train_d.reshape(X_train_d.shape[0],X_train_d.shape[1] , 1)\n",
        "X_test_d = X_test_d.reshape(X_test_d.shape[0],X_test_d.shape[1] , 1)\n",
        "X_train_r =X_train_r.reshape(X_train_r.shape[0],X_train_r.shape[1] , 1)\n",
        "X_test_r = X_test_r.reshape(X_test_r.shape[0],X_test_r.shape[1] , 1)"
      ],
      "execution_count": 206,
      "outputs": []
    },
    {
      "cell_type": "code",
      "metadata": {
        "id": "BnbEe65nrKkX"
      },
      "source": [
        "### Create the Stacked LSTM model\n",
        "from tensorflow.keras.models import Sequential\n",
        "from tensorflow.keras.layers import Dense\n",
        "from tensorflow.keras.layers import LSTM"
      ],
      "execution_count": 207,
      "outputs": []
    },
    {
      "cell_type": "code",
      "metadata": {
        "id": "MIGfj2MJrPSz"
      },
      "source": [
        "model=Sequential()\n",
        "model.add(LSTM(50,return_sequences=True,input_shape=(10,1)))\n",
        "model.add(LSTM(50,return_sequences=True))\n",
        "model.add(LSTM(50))\n",
        "model.add(Dense(1))\n",
        "model.compile(loss='mean_squared_error',optimizer='adam')"
      ],
      "execution_count": 208,
      "outputs": []
    },
    {
      "cell_type": "code",
      "metadata": {
        "colab": {
          "base_uri": "https://localhost:8080/"
        },
        "id": "EZE1Wn90rcxN",
        "outputId": "fae88979-f00e-40eb-832e-7ac8b89fc859"
      },
      "source": [
        "model.summary()"
      ],
      "execution_count": 209,
      "outputs": [
        {
          "output_type": "stream",
          "text": [
            "Model: \"sequential_3\"\n",
            "_________________________________________________________________\n",
            "Layer (type)                 Output Shape              Param #   \n",
            "=================================================================\n",
            "lstm_9 (LSTM)                (None, 10, 50)            10400     \n",
            "_________________________________________________________________\n",
            "lstm_10 (LSTM)               (None, 10, 50)            20200     \n",
            "_________________________________________________________________\n",
            "lstm_11 (LSTM)               (None, 50)                20200     \n",
            "_________________________________________________________________\n",
            "dense_3 (Dense)              (None, 1)                 51        \n",
            "=================================================================\n",
            "Total params: 50,851\n",
            "Trainable params: 50,851\n",
            "Non-trainable params: 0\n",
            "_________________________________________________________________\n"
          ],
          "name": "stdout"
        }
      ]
    },
    {
      "cell_type": "code",
      "metadata": {
        "colab": {
          "base_uri": "https://localhost:8080/"
        },
        "id": "Sk0N9A6AruvK",
        "outputId": "2213d96b-e96b-4707-8d27-af552a5014ff"
      },
      "source": [
        "model.fit(X_train_d,y_train_d,validation_data=(X_test_d,ytest_d),epochs=200,batch_size=64,verbose=1)"
      ],
      "execution_count": 210,
      "outputs": [
        {
          "output_type": "stream",
          "text": [
            "Epoch 1/200\n",
            "3/3 [==============================] - 1s 273ms/step - loss: 0.1228 - val_loss: 0.4229\n",
            "Epoch 2/200\n",
            "3/3 [==============================] - 0s 10ms/step - loss: 0.0681 - val_loss: 0.2233\n",
            "Epoch 3/200\n",
            "3/3 [==============================] - 0s 9ms/step - loss: 0.0215 - val_loss: 0.0425\n",
            "Epoch 4/200\n",
            "3/3 [==============================] - 0s 9ms/step - loss: 0.0098 - val_loss: 0.0015\n",
            "Epoch 5/200\n",
            "3/3 [==============================] - 0s 9ms/step - loss: 0.0194 - val_loss: 0.0085\n",
            "Epoch 6/200\n",
            "3/3 [==============================] - 0s 9ms/step - loss: 0.0066 - val_loss: 0.0529\n",
            "Epoch 7/200\n",
            "3/3 [==============================] - 0s 9ms/step - loss: 0.0056 - val_loss: 0.0879\n",
            "Epoch 8/200\n",
            "3/3 [==============================] - 0s 9ms/step - loss: 0.0088 - val_loss: 0.0844\n",
            "Epoch 9/200\n",
            "3/3 [==============================] - 0s 9ms/step - loss: 0.0073 - val_loss: 0.0537\n",
            "Epoch 10/200\n",
            "3/3 [==============================] - 0s 9ms/step - loss: 0.0037 - val_loss: 0.0218\n",
            "Epoch 11/200\n",
            "3/3 [==============================] - 0s 9ms/step - loss: 0.0030 - val_loss: 0.0074\n",
            "Epoch 12/200\n",
            "3/3 [==============================] - 0s 10ms/step - loss: 0.0037 - val_loss: 0.0072\n",
            "Epoch 13/200\n",
            "3/3 [==============================] - 0s 9ms/step - loss: 0.0022 - val_loss: 0.0150\n",
            "Epoch 14/200\n",
            "3/3 [==============================] - 0s 9ms/step - loss: 0.0015 - val_loss: 0.0218\n",
            "Epoch 15/200\n",
            "3/3 [==============================] - 0s 9ms/step - loss: 0.0015 - val_loss: 0.0171\n",
            "Epoch 16/200\n",
            "3/3 [==============================] - 0s 9ms/step - loss: 9.9618e-04 - val_loss: 0.0069\n",
            "Epoch 17/200\n",
            "3/3 [==============================] - 0s 9ms/step - loss: 4.8320e-04 - val_loss: 0.0014\n",
            "Epoch 18/200\n",
            "3/3 [==============================] - 0s 10ms/step - loss: 5.7215e-04 - val_loss: 7.5843e-04\n",
            "Epoch 19/200\n",
            "3/3 [==============================] - 0s 11ms/step - loss: 3.6812e-04 - val_loss: 0.0019\n",
            "Epoch 20/200\n",
            "3/3 [==============================] - 0s 11ms/step - loss: 2.7582e-04 - val_loss: 0.0027\n",
            "Epoch 21/200\n",
            "3/3 [==============================] - 0s 11ms/step - loss: 3.6775e-04 - val_loss: 0.0014\n",
            "Epoch 22/200\n",
            "3/3 [==============================] - 0s 12ms/step - loss: 2.8946e-04 - val_loss: 2.7927e-04\n",
            "Epoch 23/200\n",
            "3/3 [==============================] - 0s 11ms/step - loss: 3.1482e-04 - val_loss: 1.9386e-04\n",
            "Epoch 24/200\n",
            "3/3 [==============================] - 0s 9ms/step - loss: 3.1053e-04 - val_loss: 6.8814e-04\n",
            "Epoch 25/200\n",
            "3/3 [==============================] - 0s 11ms/step - loss: 2.7201e-04 - val_loss: 0.0014\n",
            "Epoch 26/200\n",
            "3/3 [==============================] - 0s 9ms/step - loss: 2.7415e-04 - val_loss: 0.0014\n",
            "Epoch 27/200\n",
            "3/3 [==============================] - 0s 9ms/step - loss: 2.4918e-04 - val_loss: 0.0012\n",
            "Epoch 28/200\n",
            "3/3 [==============================] - 0s 9ms/step - loss: 2.4139e-04 - val_loss: 0.0014\n",
            "Epoch 29/200\n",
            "3/3 [==============================] - 0s 9ms/step - loss: 2.3915e-04 - val_loss: 0.0019\n",
            "Epoch 30/200\n",
            "3/3 [==============================] - 0s 9ms/step - loss: 2.3388e-04 - val_loss: 0.0026\n",
            "Epoch 31/200\n",
            "3/3 [==============================] - 0s 10ms/step - loss: 2.3809e-04 - val_loss: 0.0027\n",
            "Epoch 32/200\n",
            "3/3 [==============================] - 0s 10ms/step - loss: 2.3708e-04 - val_loss: 0.0025\n",
            "Epoch 33/200\n",
            "3/3 [==============================] - 0s 9ms/step - loss: 2.3752e-04 - val_loss: 0.0025\n",
            "Epoch 34/200\n",
            "3/3 [==============================] - 0s 10ms/step - loss: 2.3329e-04 - val_loss: 0.0027\n",
            "Epoch 35/200\n",
            "3/3 [==============================] - 0s 11ms/step - loss: 2.3214e-04 - val_loss: 0.0027\n",
            "Epoch 36/200\n",
            "3/3 [==============================] - 0s 10ms/step - loss: 2.2906e-04 - val_loss: 0.0025\n",
            "Epoch 37/200\n",
            "3/3 [==============================] - 0s 10ms/step - loss: 2.2796e-04 - val_loss: 0.0023\n",
            "Epoch 38/200\n",
            "3/3 [==============================] - 0s 9ms/step - loss: 2.2820e-04 - val_loss: 0.0023\n",
            "Epoch 39/200\n",
            "3/3 [==============================] - 0s 9ms/step - loss: 2.2579e-04 - val_loss: 0.0025\n",
            "Epoch 40/200\n",
            "3/3 [==============================] - 0s 9ms/step - loss: 2.2523e-04 - val_loss: 0.0025\n",
            "Epoch 41/200\n",
            "3/3 [==============================] - 0s 9ms/step - loss: 2.2463e-04 - val_loss: 0.0025\n",
            "Epoch 42/200\n",
            "3/3 [==============================] - 0s 9ms/step - loss: 2.2353e-04 - val_loss: 0.0026\n",
            "Epoch 43/200\n",
            "3/3 [==============================] - 0s 10ms/step - loss: 2.2200e-04 - val_loss: 0.0028\n",
            "Epoch 44/200\n",
            "3/3 [==============================] - 0s 9ms/step - loss: 2.2080e-04 - val_loss: 0.0029\n",
            "Epoch 45/200\n",
            "3/3 [==============================] - 0s 9ms/step - loss: 2.2048e-04 - val_loss: 0.0028\n",
            "Epoch 46/200\n",
            "3/3 [==============================] - 0s 9ms/step - loss: 2.1873e-04 - val_loss: 0.0030\n",
            "Epoch 47/200\n",
            "3/3 [==============================] - 0s 11ms/step - loss: 2.1849e-04 - val_loss: 0.0032\n",
            "Epoch 48/200\n",
            "3/3 [==============================] - 0s 11ms/step - loss: 2.1804e-04 - val_loss: 0.0033\n",
            "Epoch 49/200\n",
            "3/3 [==============================] - 0s 10ms/step - loss: 2.1835e-04 - val_loss: 0.0031\n",
            "Epoch 50/200\n",
            "3/3 [==============================] - 0s 10ms/step - loss: 2.1548e-04 - val_loss: 0.0035\n",
            "Epoch 51/200\n",
            "3/3 [==============================] - 0s 11ms/step - loss: 2.1704e-04 - val_loss: 0.0038\n",
            "Epoch 52/200\n",
            "3/3 [==============================] - 0s 10ms/step - loss: 2.1462e-04 - val_loss: 0.0034\n",
            "Epoch 53/200\n",
            "3/3 [==============================] - 0s 9ms/step - loss: 2.1373e-04 - val_loss: 0.0033\n",
            "Epoch 54/200\n",
            "3/3 [==============================] - 0s 9ms/step - loss: 2.1396e-04 - val_loss: 0.0038\n",
            "Epoch 55/200\n",
            "3/3 [==============================] - 0s 9ms/step - loss: 2.1145e-04 - val_loss: 0.0040\n",
            "Epoch 56/200\n",
            "3/3 [==============================] - 0s 10ms/step - loss: 2.1047e-04 - val_loss: 0.0038\n",
            "Epoch 57/200\n",
            "3/3 [==============================] - 0s 10ms/step - loss: 2.0874e-04 - val_loss: 0.0038\n",
            "Epoch 58/200\n",
            "3/3 [==============================] - 0s 11ms/step - loss: 2.0857e-04 - val_loss: 0.0041\n",
            "Epoch 59/200\n",
            "3/3 [==============================] - 0s 9ms/step - loss: 2.0677e-04 - val_loss: 0.0043\n",
            "Epoch 60/200\n",
            "3/3 [==============================] - 0s 10ms/step - loss: 2.0658e-04 - val_loss: 0.0043\n",
            "Epoch 61/200\n",
            "3/3 [==============================] - 0s 11ms/step - loss: 2.0498e-04 - val_loss: 0.0042\n",
            "Epoch 62/200\n",
            "3/3 [==============================] - 0s 10ms/step - loss: 2.0509e-04 - val_loss: 0.0044\n",
            "Epoch 63/200\n",
            "3/3 [==============================] - 0s 9ms/step - loss: 2.0367e-04 - val_loss: 0.0046\n",
            "Epoch 64/200\n",
            "3/3 [==============================] - 0s 9ms/step - loss: 2.0269e-04 - val_loss: 0.0047\n",
            "Epoch 65/200\n",
            "3/3 [==============================] - 0s 9ms/step - loss: 2.0273e-04 - val_loss: 0.0047\n",
            "Epoch 66/200\n",
            "3/3 [==============================] - 0s 10ms/step - loss: 2.0184e-04 - val_loss: 0.0049\n",
            "Epoch 67/200\n",
            "3/3 [==============================] - 0s 12ms/step - loss: 2.0046e-04 - val_loss: 0.0048\n",
            "Epoch 68/200\n",
            "3/3 [==============================] - 0s 9ms/step - loss: 1.9958e-04 - val_loss: 0.0050\n",
            "Epoch 69/200\n",
            "3/3 [==============================] - 0s 10ms/step - loss: 1.9895e-04 - val_loss: 0.0051\n",
            "Epoch 70/200\n",
            "3/3 [==============================] - 0s 12ms/step - loss: 1.9799e-04 - val_loss: 0.0053\n",
            "Epoch 71/200\n",
            "3/3 [==============================] - 0s 11ms/step - loss: 1.9890e-04 - val_loss: 0.0054\n",
            "Epoch 72/200\n",
            "3/3 [==============================] - 0s 11ms/step - loss: 1.9619e-04 - val_loss: 0.0051\n",
            "Epoch 73/200\n",
            "3/3 [==============================] - 0s 11ms/step - loss: 1.9783e-04 - val_loss: 0.0055\n",
            "Epoch 74/200\n",
            "3/3 [==============================] - 0s 11ms/step - loss: 1.9498e-04 - val_loss: 0.0059\n",
            "Epoch 75/200\n",
            "3/3 [==============================] - 0s 11ms/step - loss: 1.9649e-04 - val_loss: 0.0058\n",
            "Epoch 76/200\n",
            "3/3 [==============================] - 0s 13ms/step - loss: 1.9355e-04 - val_loss: 0.0058\n",
            "Epoch 77/200\n",
            "3/3 [==============================] - 0s 12ms/step - loss: 1.9299e-04 - val_loss: 0.0057\n",
            "Epoch 78/200\n",
            "3/3 [==============================] - 0s 11ms/step - loss: 1.9236e-04 - val_loss: 0.0058\n",
            "Epoch 79/200\n",
            "3/3 [==============================] - 0s 11ms/step - loss: 1.9247e-04 - val_loss: 0.0060\n",
            "Epoch 80/200\n",
            "3/3 [==============================] - 0s 11ms/step - loss: 1.9145e-04 - val_loss: 0.0059\n",
            "Epoch 81/200\n",
            "3/3 [==============================] - 0s 11ms/step - loss: 1.9058e-04 - val_loss: 0.0062\n",
            "Epoch 82/200\n",
            "3/3 [==============================] - 0s 11ms/step - loss: 1.8975e-04 - val_loss: 0.0065\n",
            "Epoch 83/200\n",
            "3/3 [==============================] - 0s 12ms/step - loss: 1.8946e-04 - val_loss: 0.0066\n",
            "Epoch 84/200\n",
            "3/3 [==============================] - 0s 12ms/step - loss: 1.8879e-04 - val_loss: 0.0067\n",
            "Epoch 85/200\n",
            "3/3 [==============================] - 0s 11ms/step - loss: 1.8810e-04 - val_loss: 0.0067\n",
            "Epoch 86/200\n",
            "3/3 [==============================] - 0s 12ms/step - loss: 1.8711e-04 - val_loss: 0.0069\n",
            "Epoch 87/200\n",
            "3/3 [==============================] - 0s 11ms/step - loss: 1.8698e-04 - val_loss: 0.0071\n",
            "Epoch 88/200\n",
            "3/3 [==============================] - 0s 9ms/step - loss: 1.8573e-04 - val_loss: 0.0069\n",
            "Epoch 89/200\n",
            "3/3 [==============================] - 0s 9ms/step - loss: 1.8526e-04 - val_loss: 0.0069\n",
            "Epoch 90/200\n",
            "3/3 [==============================] - 0s 11ms/step - loss: 1.8552e-04 - val_loss: 0.0072\n",
            "Epoch 91/200\n",
            "3/3 [==============================] - 0s 11ms/step - loss: 1.8398e-04 - val_loss: 0.0073\n",
            "Epoch 92/200\n",
            "3/3 [==============================] - 0s 11ms/step - loss: 1.8413e-04 - val_loss: 0.0073\n",
            "Epoch 93/200\n",
            "3/3 [==============================] - 0s 9ms/step - loss: 1.8346e-04 - val_loss: 0.0076\n",
            "Epoch 94/200\n",
            "3/3 [==============================] - 0s 9ms/step - loss: 1.8227e-04 - val_loss: 0.0077\n",
            "Epoch 95/200\n",
            "3/3 [==============================] - 0s 10ms/step - loss: 1.8269e-04 - val_loss: 0.0077\n",
            "Epoch 96/200\n",
            "3/3 [==============================] - 0s 10ms/step - loss: 1.8260e-04 - val_loss: 0.0079\n",
            "Epoch 97/200\n",
            "3/3 [==============================] - 0s 10ms/step - loss: 1.8070e-04 - val_loss: 0.0076\n",
            "Epoch 98/200\n",
            "3/3 [==============================] - 0s 9ms/step - loss: 1.8103e-04 - val_loss: 0.0078\n",
            "Epoch 99/200\n",
            "3/3 [==============================] - 0s 9ms/step - loss: 1.7988e-04 - val_loss: 0.0083\n",
            "Epoch 100/200\n",
            "3/3 [==============================] - 0s 11ms/step - loss: 1.8031e-04 - val_loss: 0.0083\n",
            "Epoch 101/200\n",
            "3/3 [==============================] - 0s 10ms/step - loss: 1.8036e-04 - val_loss: 0.0080\n",
            "Epoch 102/200\n",
            "3/3 [==============================] - 0s 10ms/step - loss: 1.7961e-04 - val_loss: 0.0085\n",
            "Epoch 103/200\n",
            "3/3 [==============================] - 0s 9ms/step - loss: 1.7933e-04 - val_loss: 0.0089\n",
            "Epoch 104/200\n",
            "3/3 [==============================] - 0s 9ms/step - loss: 1.7800e-04 - val_loss: 0.0084\n",
            "Epoch 105/200\n",
            "3/3 [==============================] - 0s 11ms/step - loss: 1.7895e-04 - val_loss: 0.0086\n",
            "Epoch 106/200\n",
            "3/3 [==============================] - 0s 11ms/step - loss: 1.7586e-04 - val_loss: 0.0093\n",
            "Epoch 107/200\n",
            "3/3 [==============================] - 0s 9ms/step - loss: 1.7804e-04 - val_loss: 0.0091\n",
            "Epoch 108/200\n",
            "3/3 [==============================] - 0s 10ms/step - loss: 1.7706e-04 - val_loss: 0.0088\n",
            "Epoch 109/200\n",
            "3/3 [==============================] - 0s 9ms/step - loss: 1.7715e-04 - val_loss: 0.0091\n",
            "Epoch 110/200\n",
            "3/3 [==============================] - 0s 10ms/step - loss: 1.7564e-04 - val_loss: 0.0090\n",
            "Epoch 111/200\n",
            "3/3 [==============================] - 0s 9ms/step - loss: 1.7478e-04 - val_loss: 0.0093\n",
            "Epoch 112/200\n",
            "3/3 [==============================] - 0s 9ms/step - loss: 1.7476e-04 - val_loss: 0.0094\n",
            "Epoch 113/200\n",
            "3/3 [==============================] - 0s 10ms/step - loss: 1.7443e-04 - val_loss: 0.0095\n",
            "Epoch 114/200\n",
            "3/3 [==============================] - 0s 10ms/step - loss: 1.7398e-04 - val_loss: 0.0099\n",
            "Epoch 115/200\n",
            "3/3 [==============================] - 0s 9ms/step - loss: 1.7340e-04 - val_loss: 0.0098\n",
            "Epoch 116/200\n",
            "3/3 [==============================] - 0s 9ms/step - loss: 1.7274e-04 - val_loss: 0.0098\n",
            "Epoch 117/200\n",
            "3/3 [==============================] - 0s 10ms/step - loss: 1.7388e-04 - val_loss: 0.0100\n",
            "Epoch 118/200\n",
            "3/3 [==============================] - 0s 12ms/step - loss: 1.7397e-04 - val_loss: 0.0097\n",
            "Epoch 119/200\n",
            "3/3 [==============================] - 0s 11ms/step - loss: 1.7189e-04 - val_loss: 0.0103\n",
            "Epoch 120/200\n",
            "3/3 [==============================] - 0s 11ms/step - loss: 1.7170e-04 - val_loss: 0.0103\n",
            "Epoch 121/200\n",
            "3/3 [==============================] - 0s 12ms/step - loss: 1.7125e-04 - val_loss: 0.0100\n",
            "Epoch 122/200\n",
            "3/3 [==============================] - 0s 12ms/step - loss: 1.7111e-04 - val_loss: 0.0102\n",
            "Epoch 123/200\n",
            "3/3 [==============================] - 0s 10ms/step - loss: 1.7117e-04 - val_loss: 0.0103\n",
            "Epoch 124/200\n",
            "3/3 [==============================] - 0s 10ms/step - loss: 1.7171e-04 - val_loss: 0.0102\n",
            "Epoch 125/200\n",
            "3/3 [==============================] - 0s 9ms/step - loss: 1.7044e-04 - val_loss: 0.0109\n",
            "Epoch 126/200\n",
            "3/3 [==============================] - 0s 9ms/step - loss: 1.7072e-04 - val_loss: 0.0107\n",
            "Epoch 127/200\n",
            "3/3 [==============================] - 0s 9ms/step - loss: 1.6932e-04 - val_loss: 0.0103\n",
            "Epoch 128/200\n",
            "3/3 [==============================] - 0s 10ms/step - loss: 1.7097e-04 - val_loss: 0.0109\n",
            "Epoch 129/200\n",
            "3/3 [==============================] - 0s 11ms/step - loss: 1.6905e-04 - val_loss: 0.0109\n",
            "Epoch 130/200\n",
            "3/3 [==============================] - 0s 10ms/step - loss: 1.7056e-04 - val_loss: 0.0107\n",
            "Epoch 131/200\n",
            "3/3 [==============================] - 0s 11ms/step - loss: 1.6932e-04 - val_loss: 0.0112\n",
            "Epoch 132/200\n",
            "3/3 [==============================] - 0s 10ms/step - loss: 1.6799e-04 - val_loss: 0.0111\n",
            "Epoch 133/200\n",
            "3/3 [==============================] - 0s 10ms/step - loss: 1.6775e-04 - val_loss: 0.0111\n",
            "Epoch 134/200\n",
            "3/3 [==============================] - 0s 9ms/step - loss: 1.6784e-04 - val_loss: 0.0114\n",
            "Epoch 135/200\n",
            "3/3 [==============================] - 0s 9ms/step - loss: 1.6771e-04 - val_loss: 0.0114\n",
            "Epoch 136/200\n",
            "3/3 [==============================] - 0s 10ms/step - loss: 1.6717e-04 - val_loss: 0.0115\n",
            "Epoch 137/200\n",
            "3/3 [==============================] - 0s 10ms/step - loss: 1.7014e-04 - val_loss: 0.0115\n",
            "Epoch 138/200\n",
            "3/3 [==============================] - 0s 10ms/step - loss: 1.6869e-04 - val_loss: 0.0119\n",
            "Epoch 139/200\n",
            "3/3 [==============================] - 0s 10ms/step - loss: 1.6891e-04 - val_loss: 0.0111\n",
            "Epoch 140/200\n",
            "3/3 [==============================] - 0s 10ms/step - loss: 1.6704e-04 - val_loss: 0.0116\n",
            "Epoch 141/200\n",
            "3/3 [==============================] - 0s 10ms/step - loss: 1.6651e-04 - val_loss: 0.0119\n",
            "Epoch 142/200\n",
            "3/3 [==============================] - 0s 11ms/step - loss: 1.6580e-04 - val_loss: 0.0115\n",
            "Epoch 143/200\n",
            "3/3 [==============================] - 0s 10ms/step - loss: 1.6626e-04 - val_loss: 0.0118\n",
            "Epoch 144/200\n",
            "3/3 [==============================] - 0s 10ms/step - loss: 1.6589e-04 - val_loss: 0.0122\n",
            "Epoch 145/200\n",
            "3/3 [==============================] - 0s 10ms/step - loss: 1.6527e-04 - val_loss: 0.0119\n",
            "Epoch 146/200\n",
            "3/3 [==============================] - 0s 11ms/step - loss: 1.6624e-04 - val_loss: 0.0118\n",
            "Epoch 147/200\n",
            "3/3 [==============================] - 0s 9ms/step - loss: 1.6553e-04 - val_loss: 0.0123\n",
            "Epoch 148/200\n",
            "3/3 [==============================] - 0s 9ms/step - loss: 1.6479e-04 - val_loss: 0.0120\n",
            "Epoch 149/200\n",
            "3/3 [==============================] - 0s 12ms/step - loss: 1.6488e-04 - val_loss: 0.0122\n",
            "Epoch 150/200\n",
            "3/3 [==============================] - 0s 14ms/step - loss: 1.6656e-04 - val_loss: 0.0125\n",
            "Epoch 151/200\n",
            "3/3 [==============================] - 0s 10ms/step - loss: 1.6471e-04 - val_loss: 0.0118\n",
            "Epoch 152/200\n",
            "3/3 [==============================] - 0s 9ms/step - loss: 1.6565e-04 - val_loss: 0.0124\n",
            "Epoch 153/200\n",
            "3/3 [==============================] - 0s 9ms/step - loss: 1.6392e-04 - val_loss: 0.0126\n",
            "Epoch 154/200\n",
            "3/3 [==============================] - 0s 9ms/step - loss: 1.6378e-04 - val_loss: 0.0123\n",
            "Epoch 155/200\n",
            "3/3 [==============================] - 0s 11ms/step - loss: 1.6508e-04 - val_loss: 0.0121\n",
            "Epoch 156/200\n",
            "3/3 [==============================] - 0s 10ms/step - loss: 1.6457e-04 - val_loss: 0.0126\n",
            "Epoch 157/200\n",
            "3/3 [==============================] - 0s 10ms/step - loss: 1.6343e-04 - val_loss: 0.0124\n",
            "Epoch 158/200\n",
            "3/3 [==============================] - 0s 9ms/step - loss: 1.6338e-04 - val_loss: 0.0126\n",
            "Epoch 159/200\n",
            "3/3 [==============================] - 0s 10ms/step - loss: 1.6242e-04 - val_loss: 0.0130\n",
            "Epoch 160/200\n",
            "3/3 [==============================] - 0s 10ms/step - loss: 1.6461e-04 - val_loss: 0.0128\n",
            "Epoch 161/200\n",
            "3/3 [==============================] - 0s 10ms/step - loss: 1.6238e-04 - val_loss: 0.0131\n",
            "Epoch 162/200\n",
            "3/3 [==============================] - 0s 11ms/step - loss: 1.6330e-04 - val_loss: 0.0128\n",
            "Epoch 163/200\n",
            "3/3 [==============================] - 0s 10ms/step - loss: 1.6215e-04 - val_loss: 0.0125\n",
            "Epoch 164/200\n",
            "3/3 [==============================] - 0s 10ms/step - loss: 1.6297e-04 - val_loss: 0.0129\n",
            "Epoch 165/200\n",
            "3/3 [==============================] - 0s 10ms/step - loss: 1.6259e-04 - val_loss: 0.0130\n",
            "Epoch 166/200\n",
            "3/3 [==============================] - 0s 11ms/step - loss: 1.6270e-04 - val_loss: 0.0126\n",
            "Epoch 167/200\n",
            "3/3 [==============================] - 0s 10ms/step - loss: 1.6242e-04 - val_loss: 0.0133\n",
            "Epoch 168/200\n",
            "3/3 [==============================] - 0s 9ms/step - loss: 1.6200e-04 - val_loss: 0.0135\n",
            "Epoch 169/200\n",
            "3/3 [==============================] - 0s 9ms/step - loss: 1.6470e-04 - val_loss: 0.0128\n",
            "Epoch 170/200\n",
            "3/3 [==============================] - 0s 10ms/step - loss: 1.6134e-04 - val_loss: 0.0132\n",
            "Epoch 171/200\n",
            "3/3 [==============================] - 0s 9ms/step - loss: 1.6232e-04 - val_loss: 0.0133\n",
            "Epoch 172/200\n",
            "3/3 [==============================] - 0s 12ms/step - loss: 1.6212e-04 - val_loss: 0.0127\n",
            "Epoch 173/200\n",
            "3/3 [==============================] - 0s 12ms/step - loss: 1.6173e-04 - val_loss: 0.0133\n",
            "Epoch 174/200\n",
            "3/3 [==============================] - 0s 12ms/step - loss: 1.6288e-04 - val_loss: 0.0136\n",
            "Epoch 175/200\n",
            "3/3 [==============================] - 0s 11ms/step - loss: 1.6098e-04 - val_loss: 0.0130\n",
            "Epoch 176/200\n",
            "3/3 [==============================] - 0s 12ms/step - loss: 1.6294e-04 - val_loss: 0.0130\n",
            "Epoch 177/200\n",
            "3/3 [==============================] - 0s 12ms/step - loss: 1.6085e-04 - val_loss: 0.0137\n",
            "Epoch 178/200\n",
            "3/3 [==============================] - 0s 12ms/step - loss: 1.6153e-04 - val_loss: 0.0128\n",
            "Epoch 179/200\n",
            "3/3 [==============================] - 0s 11ms/step - loss: 1.6393e-04 - val_loss: 0.0129\n",
            "Epoch 180/200\n",
            "3/3 [==============================] - 0s 12ms/step - loss: 1.6460e-04 - val_loss: 0.0142\n",
            "Epoch 181/200\n",
            "3/3 [==============================] - 0s 12ms/step - loss: 1.6758e-04 - val_loss: 0.0132\n",
            "Epoch 182/200\n",
            "3/3 [==============================] - 0s 12ms/step - loss: 1.6120e-04 - val_loss: 0.0141\n",
            "Epoch 183/200\n",
            "3/3 [==============================] - 0s 11ms/step - loss: 1.6550e-04 - val_loss: 0.0141\n",
            "Epoch 184/200\n",
            "3/3 [==============================] - 0s 11ms/step - loss: 1.6536e-04 - val_loss: 0.0129\n",
            "Epoch 185/200\n",
            "3/3 [==============================] - 0s 11ms/step - loss: 1.6789e-04 - val_loss: 0.0137\n",
            "Epoch 186/200\n",
            "3/3 [==============================] - 0s 12ms/step - loss: 1.5859e-04 - val_loss: 0.0128\n",
            "Epoch 187/200\n",
            "3/3 [==============================] - 0s 12ms/step - loss: 1.6153e-04 - val_loss: 0.0133\n",
            "Epoch 188/200\n",
            "3/3 [==============================] - 0s 10ms/step - loss: 1.5982e-04 - val_loss: 0.0139\n",
            "Epoch 189/200\n",
            "3/3 [==============================] - 0s 10ms/step - loss: 1.6224e-04 - val_loss: 0.0134\n",
            "Epoch 190/200\n",
            "3/3 [==============================] - 0s 10ms/step - loss: 1.5931e-04 - val_loss: 0.0141\n",
            "Epoch 191/200\n",
            "3/3 [==============================] - 0s 11ms/step - loss: 1.6088e-04 - val_loss: 0.0134\n",
            "Epoch 192/200\n",
            "3/3 [==============================] - 0s 11ms/step - loss: 1.6048e-04 - val_loss: 0.0137\n",
            "Epoch 193/200\n",
            "3/3 [==============================] - 0s 10ms/step - loss: 1.6110e-04 - val_loss: 0.0136\n",
            "Epoch 194/200\n",
            "3/3 [==============================] - 0s 10ms/step - loss: 1.6078e-04 - val_loss: 0.0130\n",
            "Epoch 195/200\n",
            "3/3 [==============================] - 0s 9ms/step - loss: 1.5918e-04 - val_loss: 0.0142\n",
            "Epoch 196/200\n",
            "3/3 [==============================] - 0s 13ms/step - loss: 1.6251e-04 - val_loss: 0.0138\n",
            "Epoch 197/200\n",
            "3/3 [==============================] - 0s 10ms/step - loss: 1.5829e-04 - val_loss: 0.0128\n",
            "Epoch 198/200\n",
            "3/3 [==============================] - 0s 10ms/step - loss: 1.6059e-04 - val_loss: 0.0141\n",
            "Epoch 199/200\n",
            "3/3 [==============================] - 0s 10ms/step - loss: 1.6112e-04 - val_loss: 0.0135\n",
            "Epoch 200/200\n",
            "3/3 [==============================] - 0s 9ms/step - loss: 1.5865e-04 - val_loss: 0.0130\n"
          ],
          "name": "stdout"
        },
        {
          "output_type": "execute_result",
          "data": {
            "text/plain": [
              "<tensorflow.python.keras.callbacks.History at 0x7f61c2443ba8>"
            ]
          },
          "metadata": {
            "tags": []
          },
          "execution_count": 210
        }
      ]
    },
    {
      "cell_type": "code",
      "metadata": {
        "colab": {
          "base_uri": "https://localhost:8080/"
        },
        "id": "ez6qd9mgcE76",
        "outputId": "fdb2675e-8ec9-40ef-d868-9ca9e4c9272c"
      },
      "source": [
        "model.fit(X_train_r,y_train_r,validation_data=(X_test_r,ytest_r),epochs=200,batch_size=64,verbose=1)"
      ],
      "execution_count": 211,
      "outputs": [
        {
          "output_type": "stream",
          "text": [
            "Epoch 1/200\n",
            "3/3 [==============================] - 0s 16ms/step - loss: 5.7878e-04 - val_loss: 0.0042\n",
            "Epoch 2/200\n",
            "3/3 [==============================] - 0s 10ms/step - loss: 5.3002e-04 - val_loss: 0.0075\n",
            "Epoch 3/200\n",
            "3/3 [==============================] - 0s 9ms/step - loss: 4.5554e-04 - val_loss: 0.0073\n",
            "Epoch 4/200\n",
            "3/3 [==============================] - 0s 9ms/step - loss: 3.9089e-04 - val_loss: 0.0037\n",
            "Epoch 5/200\n",
            "3/3 [==============================] - 0s 9ms/step - loss: 3.7792e-04 - val_loss: 0.0089\n",
            "Epoch 6/200\n",
            "3/3 [==============================] - 0s 9ms/step - loss: 3.9741e-04 - val_loss: 0.0057\n",
            "Epoch 7/200\n",
            "3/3 [==============================] - 0s 9ms/step - loss: 3.6929e-04 - val_loss: 0.0053\n",
            "Epoch 8/200\n",
            "3/3 [==============================] - 0s 9ms/step - loss: 3.2117e-04 - val_loss: 0.0069\n",
            "Epoch 9/200\n",
            "3/3 [==============================] - 0s 9ms/step - loss: 3.3142e-04 - val_loss: 0.0037\n",
            "Epoch 10/200\n",
            "3/3 [==============================] - 0s 9ms/step - loss: 3.4241e-04 - val_loss: 0.0053\n",
            "Epoch 11/200\n",
            "3/3 [==============================] - 0s 9ms/step - loss: 3.2132e-04 - val_loss: 0.0057\n",
            "Epoch 12/200\n",
            "3/3 [==============================] - 0s 10ms/step - loss: 3.0571e-04 - val_loss: 0.0043\n",
            "Epoch 13/200\n",
            "3/3 [==============================] - 0s 11ms/step - loss: 3.2032e-04 - val_loss: 0.0054\n",
            "Epoch 14/200\n",
            "3/3 [==============================] - 0s 11ms/step - loss: 3.1951e-04 - val_loss: 0.0048\n",
            "Epoch 15/200\n",
            "3/3 [==============================] - 0s 11ms/step - loss: 3.1498e-04 - val_loss: 0.0038\n",
            "Epoch 16/200\n",
            "3/3 [==============================] - 0s 11ms/step - loss: 3.0300e-04 - val_loss: 0.0054\n",
            "Epoch 17/200\n",
            "3/3 [==============================] - 0s 9ms/step - loss: 3.1719e-04 - val_loss: 0.0040\n",
            "Epoch 18/200\n",
            "3/3 [==============================] - 0s 9ms/step - loss: 3.3139e-04 - val_loss: 0.0041\n",
            "Epoch 19/200\n",
            "3/3 [==============================] - 0s 9ms/step - loss: 3.1340e-04 - val_loss: 0.0054\n",
            "Epoch 20/200\n",
            "3/3 [==============================] - 0s 11ms/step - loss: 3.0711e-04 - val_loss: 0.0034\n",
            "Epoch 21/200\n",
            "3/3 [==============================] - 0s 10ms/step - loss: 3.1394e-04 - val_loss: 0.0046\n",
            "Epoch 22/200\n",
            "3/3 [==============================] - 0s 11ms/step - loss: 3.1912e-04 - val_loss: 0.0043\n",
            "Epoch 23/200\n",
            "3/3 [==============================] - 0s 10ms/step - loss: 3.0513e-04 - val_loss: 0.0033\n",
            "Epoch 24/200\n",
            "3/3 [==============================] - 0s 10ms/step - loss: 3.0705e-04 - val_loss: 0.0052\n",
            "Epoch 25/200\n",
            "3/3 [==============================] - 0s 9ms/step - loss: 3.0793e-04 - val_loss: 0.0037\n",
            "Epoch 26/200\n",
            "3/3 [==============================] - 0s 9ms/step - loss: 3.0354e-04 - val_loss: 0.0043\n",
            "Epoch 27/200\n",
            "3/3 [==============================] - 0s 10ms/step - loss: 3.0839e-04 - val_loss: 0.0040\n",
            "Epoch 28/200\n",
            "3/3 [==============================] - 0s 9ms/step - loss: 2.9870e-04 - val_loss: 0.0033\n",
            "Epoch 29/200\n",
            "3/3 [==============================] - 0s 10ms/step - loss: 2.9770e-04 - val_loss: 0.0048\n",
            "Epoch 30/200\n",
            "3/3 [==============================] - 0s 9ms/step - loss: 3.0319e-04 - val_loss: 0.0040\n",
            "Epoch 31/200\n",
            "3/3 [==============================] - 0s 9ms/step - loss: 3.0032e-04 - val_loss: 0.0041\n",
            "Epoch 32/200\n",
            "3/3 [==============================] - 0s 9ms/step - loss: 2.9411e-04 - val_loss: 0.0043\n",
            "Epoch 33/200\n",
            "3/3 [==============================] - 0s 10ms/step - loss: 2.9676e-04 - val_loss: 0.0035\n",
            "Epoch 34/200\n",
            "3/3 [==============================] - 0s 9ms/step - loss: 2.9409e-04 - val_loss: 0.0039\n",
            "Epoch 35/200\n",
            "3/3 [==============================] - 0s 10ms/step - loss: 2.9330e-04 - val_loss: 0.0040\n",
            "Epoch 36/200\n",
            "3/3 [==============================] - 0s 11ms/step - loss: 2.9229e-04 - val_loss: 0.0039\n",
            "Epoch 37/200\n",
            "3/3 [==============================] - 0s 11ms/step - loss: 2.9098e-04 - val_loss: 0.0043\n",
            "Epoch 38/200\n",
            "3/3 [==============================] - 0s 10ms/step - loss: 2.8921e-04 - val_loss: 0.0037\n",
            "Epoch 39/200\n",
            "3/3 [==============================] - 0s 9ms/step - loss: 2.8898e-04 - val_loss: 0.0037\n",
            "Epoch 40/200\n",
            "3/3 [==============================] - 0s 9ms/step - loss: 2.8949e-04 - val_loss: 0.0036\n",
            "Epoch 41/200\n",
            "3/3 [==============================] - 0s 9ms/step - loss: 2.8841e-04 - val_loss: 0.0037\n",
            "Epoch 42/200\n",
            "3/3 [==============================] - 0s 9ms/step - loss: 2.8711e-04 - val_loss: 0.0042\n",
            "Epoch 43/200\n",
            "3/3 [==============================] - 0s 11ms/step - loss: 2.8749e-04 - val_loss: 0.0036\n",
            "Epoch 44/200\n",
            "3/3 [==============================] - 0s 10ms/step - loss: 2.8593e-04 - val_loss: 0.0035\n",
            "Epoch 45/200\n",
            "3/3 [==============================] - 0s 9ms/step - loss: 2.8565e-04 - val_loss: 0.0040\n",
            "Epoch 46/200\n",
            "3/3 [==============================] - 0s 10ms/step - loss: 2.8215e-04 - val_loss: 0.0036\n",
            "Epoch 47/200\n",
            "3/3 [==============================] - 0s 9ms/step - loss: 2.8316e-04 - val_loss: 0.0035\n",
            "Epoch 48/200\n",
            "3/3 [==============================] - 0s 9ms/step - loss: 2.8171e-04 - val_loss: 0.0036\n",
            "Epoch 49/200\n",
            "3/3 [==============================] - 0s 9ms/step - loss: 2.8240e-04 - val_loss: 0.0035\n",
            "Epoch 50/200\n",
            "3/3 [==============================] - 0s 10ms/step - loss: 2.7956e-04 - val_loss: 0.0038\n",
            "Epoch 51/200\n",
            "3/3 [==============================] - 0s 10ms/step - loss: 2.7915e-04 - val_loss: 0.0035\n",
            "Epoch 52/200\n",
            "3/3 [==============================] - 0s 11ms/step - loss: 2.7948e-04 - val_loss: 0.0036\n",
            "Epoch 53/200\n",
            "3/3 [==============================] - 0s 10ms/step - loss: 2.7750e-04 - val_loss: 0.0041\n",
            "Epoch 54/200\n",
            "3/3 [==============================] - 0s 10ms/step - loss: 2.7915e-04 - val_loss: 0.0034\n",
            "Epoch 55/200\n",
            "3/3 [==============================] - 0s 9ms/step - loss: 2.7671e-04 - val_loss: 0.0037\n",
            "Epoch 56/200\n",
            "3/3 [==============================] - 0s 9ms/step - loss: 2.7355e-04 - val_loss: 0.0035\n",
            "Epoch 57/200\n",
            "3/3 [==============================] - 0s 9ms/step - loss: 2.7211e-04 - val_loss: 0.0035\n",
            "Epoch 58/200\n",
            "3/3 [==============================] - 0s 9ms/step - loss: 2.6982e-04 - val_loss: 0.0035\n",
            "Epoch 59/200\n",
            "3/3 [==============================] - 0s 9ms/step - loss: 2.6830e-04 - val_loss: 0.0033\n",
            "Epoch 60/200\n",
            "3/3 [==============================] - 0s 9ms/step - loss: 2.7068e-04 - val_loss: 0.0033\n",
            "Epoch 61/200\n",
            "3/3 [==============================] - 0s 9ms/step - loss: 2.6941e-04 - val_loss: 0.0031\n",
            "Epoch 62/200\n",
            "3/3 [==============================] - 0s 9ms/step - loss: 2.6620e-04 - val_loss: 0.0033\n",
            "Epoch 63/200\n",
            "3/3 [==============================] - 0s 11ms/step - loss: 2.6381e-04 - val_loss: 0.0033\n",
            "Epoch 64/200\n",
            "3/3 [==============================] - 0s 9ms/step - loss: 2.6388e-04 - val_loss: 0.0031\n",
            "Epoch 65/200\n",
            "3/3 [==============================] - 0s 9ms/step - loss: 2.6531e-04 - val_loss: 0.0032\n",
            "Epoch 66/200\n",
            "3/3 [==============================] - 0s 9ms/step - loss: 2.6327e-04 - val_loss: 0.0032\n",
            "Epoch 67/200\n",
            "3/3 [==============================] - 0s 10ms/step - loss: 2.5806e-04 - val_loss: 0.0032\n",
            "Epoch 68/200\n",
            "3/3 [==============================] - 0s 11ms/step - loss: 2.5703e-04 - val_loss: 0.0025\n",
            "Epoch 69/200\n",
            "3/3 [==============================] - 0s 9ms/step - loss: 2.6363e-04 - val_loss: 0.0035\n",
            "Epoch 70/200\n",
            "3/3 [==============================] - 0s 9ms/step - loss: 2.5972e-04 - val_loss: 0.0028\n",
            "Epoch 71/200\n",
            "3/3 [==============================] - 0s 10ms/step - loss: 2.5731e-04 - val_loss: 0.0029\n",
            "Epoch 72/200\n",
            "3/3 [==============================] - 0s 11ms/step - loss: 2.5277e-04 - val_loss: 0.0030\n",
            "Epoch 73/200\n",
            "3/3 [==============================] - 0s 9ms/step - loss: 2.4775e-04 - val_loss: 0.0025\n",
            "Epoch 74/200\n",
            "3/3 [==============================] - 0s 11ms/step - loss: 2.4730e-04 - val_loss: 0.0030\n",
            "Epoch 75/200\n",
            "3/3 [==============================] - 0s 11ms/step - loss: 2.5316e-04 - val_loss: 0.0028\n",
            "Epoch 76/200\n",
            "3/3 [==============================] - 0s 11ms/step - loss: 2.4114e-04 - val_loss: 0.0031\n",
            "Epoch 77/200\n",
            "3/3 [==============================] - 0s 11ms/step - loss: 2.3872e-04 - val_loss: 0.0022\n",
            "Epoch 78/200\n",
            "3/3 [==============================] - 0s 11ms/step - loss: 2.3355e-04 - val_loss: 0.0031\n",
            "Epoch 79/200\n",
            "3/3 [==============================] - 0s 12ms/step - loss: 2.3097e-04 - val_loss: 0.0023\n",
            "Epoch 80/200\n",
            "3/3 [==============================] - 0s 13ms/step - loss: 2.2786e-04 - val_loss: 0.0029\n",
            "Epoch 81/200\n",
            "3/3 [==============================] - 0s 13ms/step - loss: 2.2339e-04 - val_loss: 0.0023\n",
            "Epoch 82/200\n",
            "3/3 [==============================] - 0s 10ms/step - loss: 2.2019e-04 - val_loss: 0.0023\n",
            "Epoch 83/200\n",
            "3/3 [==============================] - 0s 9ms/step - loss: 2.1129e-04 - val_loss: 0.0024\n",
            "Epoch 84/200\n",
            "3/3 [==============================] - 0s 9ms/step - loss: 2.1669e-04 - val_loss: 0.0022\n",
            "Epoch 85/200\n",
            "3/3 [==============================] - 0s 11ms/step - loss: 2.1094e-04 - val_loss: 0.0021\n",
            "Epoch 86/200\n",
            "3/3 [==============================] - 0s 12ms/step - loss: 2.0197e-04 - val_loss: 0.0018\n",
            "Epoch 87/200\n",
            "3/3 [==============================] - 0s 9ms/step - loss: 1.9474e-04 - val_loss: 0.0023\n",
            "Epoch 88/200\n",
            "3/3 [==============================] - 0s 9ms/step - loss: 1.9668e-04 - val_loss: 0.0018\n",
            "Epoch 89/200\n",
            "3/3 [==============================] - 0s 9ms/step - loss: 1.8362e-04 - val_loss: 0.0017\n",
            "Epoch 90/200\n",
            "3/3 [==============================] - 0s 9ms/step - loss: 1.8048e-04 - val_loss: 0.0016\n",
            "Epoch 91/200\n",
            "3/3 [==============================] - 0s 10ms/step - loss: 1.6459e-04 - val_loss: 0.0014\n",
            "Epoch 92/200\n",
            "3/3 [==============================] - 0s 10ms/step - loss: 1.6489e-04 - val_loss: 0.0013\n",
            "Epoch 93/200\n",
            "3/3 [==============================] - 0s 10ms/step - loss: 1.5625e-04 - val_loss: 0.0012\n",
            "Epoch 94/200\n",
            "3/3 [==============================] - 0s 9ms/step - loss: 1.5309e-04 - val_loss: 9.8430e-04\n",
            "Epoch 95/200\n",
            "3/3 [==============================] - 0s 9ms/step - loss: 1.3652e-04 - val_loss: 0.0011\n",
            "Epoch 96/200\n",
            "3/3 [==============================] - 0s 11ms/step - loss: 1.2363e-04 - val_loss: 9.2156e-04\n",
            "Epoch 97/200\n",
            "3/3 [==============================] - 0s 9ms/step - loss: 1.1372e-04 - val_loss: 8.6917e-04\n",
            "Epoch 98/200\n",
            "3/3 [==============================] - 0s 9ms/step - loss: 1.0277e-04 - val_loss: 8.1326e-04\n",
            "Epoch 99/200\n",
            "3/3 [==============================] - 0s 9ms/step - loss: 9.0764e-05 - val_loss: 5.3917e-04\n",
            "Epoch 100/200\n",
            "3/3 [==============================] - 0s 9ms/step - loss: 7.9862e-05 - val_loss: 6.4889e-04\n",
            "Epoch 101/200\n",
            "3/3 [==============================] - 0s 14ms/step - loss: 8.3061e-05 - val_loss: 1.9619e-04\n",
            "Epoch 102/200\n",
            "3/3 [==============================] - 0s 11ms/step - loss: 7.1540e-05 - val_loss: 4.3463e-04\n",
            "Epoch 103/200\n",
            "3/3 [==============================] - 0s 9ms/step - loss: 6.1527e-05 - val_loss: 9.6389e-05\n",
            "Epoch 104/200\n",
            "3/3 [==============================] - 0s 10ms/step - loss: 5.0419e-05 - val_loss: 1.9222e-04\n",
            "Epoch 105/200\n",
            "3/3 [==============================] - 0s 10ms/step - loss: 4.1082e-05 - val_loss: 5.3374e-05\n",
            "Epoch 106/200\n",
            "3/3 [==============================] - 0s 9ms/step - loss: 3.6831e-05 - val_loss: 1.2980e-04\n",
            "Epoch 107/200\n",
            "3/3 [==============================] - 0s 9ms/step - loss: 3.8922e-05 - val_loss: 5.8965e-05\n",
            "Epoch 108/200\n",
            "3/3 [==============================] - 0s 9ms/step - loss: 4.0120e-05 - val_loss: 1.1688e-04\n",
            "Epoch 109/200\n",
            "3/3 [==============================] - 0s 9ms/step - loss: 3.8568e-05 - val_loss: 8.7377e-05\n",
            "Epoch 110/200\n",
            "3/3 [==============================] - 0s 11ms/step - loss: 3.5813e-05 - val_loss: 6.2551e-05\n",
            "Epoch 111/200\n",
            "3/3 [==============================] - 0s 12ms/step - loss: 3.7931e-05 - val_loss: 3.8580e-05\n",
            "Epoch 112/200\n",
            "3/3 [==============================] - 0s 11ms/step - loss: 3.3978e-05 - val_loss: 3.7711e-05\n",
            "Epoch 113/200\n",
            "3/3 [==============================] - 0s 11ms/step - loss: 3.6661e-05 - val_loss: 7.0802e-05\n",
            "Epoch 114/200\n",
            "3/3 [==============================] - 0s 11ms/step - loss: 3.7812e-05 - val_loss: 5.3510e-05\n",
            "Epoch 115/200\n",
            "3/3 [==============================] - 0s 11ms/step - loss: 3.2182e-05 - val_loss: 9.4762e-05\n",
            "Epoch 116/200\n",
            "3/3 [==============================] - 0s 11ms/step - loss: 3.3521e-05 - val_loss: 4.3676e-05\n",
            "Epoch 117/200\n",
            "3/3 [==============================] - 0s 11ms/step - loss: 3.1303e-05 - val_loss: 4.9192e-05\n",
            "Epoch 118/200\n",
            "3/3 [==============================] - 0s 11ms/step - loss: 2.8312e-05 - val_loss: 6.4555e-05\n",
            "Epoch 119/200\n",
            "3/3 [==============================] - 0s 12ms/step - loss: 2.8780e-05 - val_loss: 5.9437e-05\n",
            "Epoch 120/200\n",
            "3/3 [==============================] - 0s 15ms/step - loss: 2.8183e-05 - val_loss: 1.0863e-04\n",
            "Epoch 121/200\n",
            "3/3 [==============================] - 0s 11ms/step - loss: 2.9333e-05 - val_loss: 8.5432e-05\n",
            "Epoch 122/200\n",
            "3/3 [==============================] - 0s 10ms/step - loss: 2.9819e-05 - val_loss: 6.5857e-05\n",
            "Epoch 123/200\n",
            "3/3 [==============================] - 0s 9ms/step - loss: 2.9722e-05 - val_loss: 1.8848e-04\n",
            "Epoch 124/200\n",
            "3/3 [==============================] - 0s 9ms/step - loss: 3.2978e-05 - val_loss: 6.4215e-05\n",
            "Epoch 125/200\n",
            "3/3 [==============================] - 0s 10ms/step - loss: 3.1824e-05 - val_loss: 3.0441e-04\n",
            "Epoch 126/200\n",
            "3/3 [==============================] - 0s 10ms/step - loss: 4.1526e-05 - val_loss: 6.5385e-05\n",
            "Epoch 127/200\n",
            "3/3 [==============================] - 0s 12ms/step - loss: 3.8231e-05 - val_loss: 1.9152e-04\n",
            "Epoch 128/200\n",
            "3/3 [==============================] - 0s 10ms/step - loss: 4.5515e-05 - val_loss: 8.4079e-05\n",
            "Epoch 129/200\n",
            "3/3 [==============================] - 0s 9ms/step - loss: 4.0975e-05 - val_loss: 2.1361e-04\n",
            "Epoch 130/200\n",
            "3/3 [==============================] - 0s 9ms/step - loss: 4.5333e-05 - val_loss: 1.1910e-04\n",
            "Epoch 131/200\n",
            "3/3 [==============================] - 0s 10ms/step - loss: 4.2267e-05 - val_loss: 1.6502e-04\n",
            "Epoch 132/200\n",
            "3/3 [==============================] - 0s 9ms/step - loss: 3.2670e-05 - val_loss: 1.7404e-04\n",
            "Epoch 133/200\n",
            "3/3 [==============================] - 0s 9ms/step - loss: 3.1203e-05 - val_loss: 1.3578e-04\n",
            "Epoch 134/200\n",
            "3/3 [==============================] - 0s 11ms/step - loss: 2.8857e-05 - val_loss: 2.2828e-04\n",
            "Epoch 135/200\n",
            "3/3 [==============================] - 0s 12ms/step - loss: 2.8027e-05 - val_loss: 2.0316e-04\n",
            "Epoch 136/200\n",
            "3/3 [==============================] - 0s 10ms/step - loss: 2.8047e-05 - val_loss: 2.5431e-04\n",
            "Epoch 137/200\n",
            "3/3 [==============================] - 0s 9ms/step - loss: 2.7768e-05 - val_loss: 1.7280e-04\n",
            "Epoch 138/200\n",
            "3/3 [==============================] - 0s 9ms/step - loss: 2.7077e-05 - val_loss: 2.2632e-04\n",
            "Epoch 139/200\n",
            "3/3 [==============================] - 0s 9ms/step - loss: 2.6433e-05 - val_loss: 2.6816e-04\n",
            "Epoch 140/200\n",
            "3/3 [==============================] - 0s 10ms/step - loss: 2.8031e-05 - val_loss: 1.6989e-04\n",
            "Epoch 141/200\n",
            "3/3 [==============================] - 0s 10ms/step - loss: 2.6202e-05 - val_loss: 2.3202e-04\n",
            "Epoch 142/200\n",
            "3/3 [==============================] - 0s 10ms/step - loss: 2.6619e-05 - val_loss: 1.5893e-04\n",
            "Epoch 143/200\n",
            "3/3 [==============================] - 0s 9ms/step - loss: 2.6087e-05 - val_loss: 2.5437e-04\n",
            "Epoch 144/200\n",
            "3/3 [==============================] - 0s 10ms/step - loss: 2.7134e-05 - val_loss: 1.5338e-04\n",
            "Epoch 145/200\n",
            "3/3 [==============================] - 0s 11ms/step - loss: 2.5600e-05 - val_loss: 2.8049e-04\n",
            "Epoch 146/200\n",
            "3/3 [==============================] - 0s 9ms/step - loss: 2.7735e-05 - val_loss: 1.6717e-04\n",
            "Epoch 147/200\n",
            "3/3 [==============================] - 0s 10ms/step - loss: 2.8201e-05 - val_loss: 2.0485e-04\n",
            "Epoch 148/200\n",
            "3/3 [==============================] - 0s 11ms/step - loss: 2.5906e-05 - val_loss: 2.1093e-04\n",
            "Epoch 149/200\n",
            "3/3 [==============================] - 0s 10ms/step - loss: 2.4865e-05 - val_loss: 2.5653e-04\n",
            "Epoch 150/200\n",
            "3/3 [==============================] - 0s 10ms/step - loss: 2.5150e-05 - val_loss: 2.4396e-04\n",
            "Epoch 151/200\n",
            "3/3 [==============================] - 0s 10ms/step - loss: 2.4266e-05 - val_loss: 2.6826e-04\n",
            "Epoch 152/200\n",
            "3/3 [==============================] - 0s 10ms/step - loss: 2.6351e-05 - val_loss: 3.1021e-04\n",
            "Epoch 153/200\n",
            "3/3 [==============================] - 0s 11ms/step - loss: 2.5456e-05 - val_loss: 2.1780e-04\n",
            "Epoch 154/200\n",
            "3/3 [==============================] - 0s 10ms/step - loss: 2.5928e-05 - val_loss: 2.9213e-04\n",
            "Epoch 155/200\n",
            "3/3 [==============================] - 0s 10ms/step - loss: 2.4858e-05 - val_loss: 2.6894e-04\n",
            "Epoch 156/200\n",
            "3/3 [==============================] - 0s 10ms/step - loss: 2.5369e-05 - val_loss: 2.7553e-04\n",
            "Epoch 157/200\n",
            "3/3 [==============================] - 0s 10ms/step - loss: 2.5296e-05 - val_loss: 3.0973e-04\n",
            "Epoch 158/200\n",
            "3/3 [==============================] - 0s 11ms/step - loss: 2.4552e-05 - val_loss: 2.7971e-04\n",
            "Epoch 159/200\n",
            "3/3 [==============================] - 0s 12ms/step - loss: 2.3938e-05 - val_loss: 3.2221e-04\n",
            "Epoch 160/200\n",
            "3/3 [==============================] - 0s 11ms/step - loss: 2.4526e-05 - val_loss: 3.4665e-04\n",
            "Epoch 161/200\n",
            "3/3 [==============================] - 0s 11ms/step - loss: 2.6172e-05 - val_loss: 2.9231e-04\n",
            "Epoch 162/200\n",
            "3/3 [==============================] - 0s 11ms/step - loss: 2.6418e-05 - val_loss: 3.7813e-04\n",
            "Epoch 163/200\n",
            "3/3 [==============================] - 0s 12ms/step - loss: 2.6908e-05 - val_loss: 2.4184e-04\n",
            "Epoch 164/200\n",
            "3/3 [==============================] - 0s 13ms/step - loss: 2.7338e-05 - val_loss: 4.0372e-04\n",
            "Epoch 165/200\n",
            "3/3 [==============================] - 0s 13ms/step - loss: 2.4361e-05 - val_loss: 2.7668e-04\n",
            "Epoch 166/200\n",
            "3/3 [==============================] - 0s 11ms/step - loss: 2.4558e-05 - val_loss: 3.9069e-04\n",
            "Epoch 167/200\n",
            "3/3 [==============================] - 0s 11ms/step - loss: 2.3383e-05 - val_loss: 3.1291e-04\n",
            "Epoch 168/200\n",
            "3/3 [==============================] - 0s 13ms/step - loss: 2.5730e-05 - val_loss: 3.2183e-04\n",
            "Epoch 169/200\n",
            "3/3 [==============================] - 0s 13ms/step - loss: 2.4533e-05 - val_loss: 4.5843e-04\n",
            "Epoch 170/200\n",
            "3/3 [==============================] - 0s 14ms/step - loss: 2.4289e-05 - val_loss: 3.2172e-04\n",
            "Epoch 171/200\n",
            "3/3 [==============================] - 0s 12ms/step - loss: 2.3738e-05 - val_loss: 4.0408e-04\n",
            "Epoch 172/200\n",
            "3/3 [==============================] - 0s 11ms/step - loss: 2.3485e-05 - val_loss: 3.4954e-04\n",
            "Epoch 173/200\n",
            "3/3 [==============================] - 0s 11ms/step - loss: 2.3272e-05 - val_loss: 4.7263e-04\n",
            "Epoch 174/200\n",
            "3/3 [==============================] - 0s 12ms/step - loss: 2.3914e-05 - val_loss: 3.3353e-04\n",
            "Epoch 175/200\n",
            "3/3 [==============================] - 0s 13ms/step - loss: 2.3962e-05 - val_loss: 5.3213e-04\n",
            "Epoch 176/200\n",
            "3/3 [==============================] - 0s 10ms/step - loss: 2.7133e-05 - val_loss: 2.7132e-04\n",
            "Epoch 177/200\n",
            "3/3 [==============================] - 0s 10ms/step - loss: 2.6435e-05 - val_loss: 5.5413e-04\n",
            "Epoch 178/200\n",
            "3/3 [==============================] - 0s 12ms/step - loss: 2.5081e-05 - val_loss: 3.1817e-04\n",
            "Epoch 179/200\n",
            "3/3 [==============================] - 0s 10ms/step - loss: 2.3280e-05 - val_loss: 6.0511e-04\n",
            "Epoch 180/200\n",
            "3/3 [==============================] - 0s 10ms/step - loss: 2.4637e-05 - val_loss: 2.7812e-04\n",
            "Epoch 181/200\n",
            "3/3 [==============================] - 0s 9ms/step - loss: 2.6569e-05 - val_loss: 5.5943e-04\n",
            "Epoch 182/200\n",
            "3/3 [==============================] - 0s 9ms/step - loss: 2.3604e-05 - val_loss: 2.9986e-04\n",
            "Epoch 183/200\n",
            "3/3 [==============================] - 0s 10ms/step - loss: 2.6703e-05 - val_loss: 5.8354e-04\n",
            "Epoch 184/200\n",
            "3/3 [==============================] - 0s 11ms/step - loss: 2.5776e-05 - val_loss: 4.3362e-04\n",
            "Epoch 185/200\n",
            "3/3 [==============================] - 0s 10ms/step - loss: 2.5550e-05 - val_loss: 4.6184e-04\n",
            "Epoch 186/200\n",
            "3/3 [==============================] - 0s 9ms/step - loss: 2.3748e-05 - val_loss: 4.9711e-04\n",
            "Epoch 187/200\n",
            "3/3 [==============================] - 0s 9ms/step - loss: 2.4030e-05 - val_loss: 4.6195e-04\n",
            "Epoch 188/200\n",
            "3/3 [==============================] - 0s 11ms/step - loss: 2.4764e-05 - val_loss: 3.7757e-04\n",
            "Epoch 189/200\n",
            "3/3 [==============================] - 0s 11ms/step - loss: 2.5405e-05 - val_loss: 6.7605e-04\n",
            "Epoch 190/200\n",
            "3/3 [==============================] - 0s 10ms/step - loss: 2.6492e-05 - val_loss: 4.1885e-04\n",
            "Epoch 191/200\n",
            "3/3 [==============================] - 0s 10ms/step - loss: 2.3160e-05 - val_loss: 5.4339e-04\n",
            "Epoch 192/200\n",
            "3/3 [==============================] - 0s 11ms/step - loss: 2.3840e-05 - val_loss: 5.3714e-04\n",
            "Epoch 193/200\n",
            "3/3 [==============================] - 0s 11ms/step - loss: 2.2937e-05 - val_loss: 4.4081e-04\n",
            "Epoch 194/200\n",
            "3/3 [==============================] - 0s 10ms/step - loss: 2.2299e-05 - val_loss: 6.6061e-04\n",
            "Epoch 195/200\n",
            "3/3 [==============================] - 0s 9ms/step - loss: 2.4472e-05 - val_loss: 4.5108e-04\n",
            "Epoch 196/200\n",
            "3/3 [==============================] - 0s 9ms/step - loss: 2.2756e-05 - val_loss: 5.8109e-04\n",
            "Epoch 197/200\n",
            "3/3 [==============================] - 0s 11ms/step - loss: 2.3284e-05 - val_loss: 5.6908e-04\n",
            "Epoch 198/200\n",
            "3/3 [==============================] - 0s 11ms/step - loss: 2.3632e-05 - val_loss: 5.2735e-04\n",
            "Epoch 199/200\n",
            "3/3 [==============================] - 0s 10ms/step - loss: 2.2803e-05 - val_loss: 4.6393e-04\n",
            "Epoch 200/200\n",
            "3/3 [==============================] - 0s 9ms/step - loss: 2.2394e-05 - val_loss: 5.9909e-04\n"
          ],
          "name": "stdout"
        },
        {
          "output_type": "execute_result",
          "data": {
            "text/plain": [
              "<tensorflow.python.keras.callbacks.History at 0x7f61c030f5c0>"
            ]
          },
          "metadata": {
            "tags": []
          },
          "execution_count": 211
        }
      ]
    },
    {
      "cell_type": "code",
      "metadata": {
        "id": "bqpkHUfMsWFv"
      },
      "source": [
        "import tensorflow as tf"
      ],
      "execution_count": 212,
      "outputs": []
    },
    {
      "cell_type": "code",
      "metadata": {
        "id": "tKr308btshg-"
      },
      "source": [
        "### Lets Do the prediction and check performance metrics\n",
        "train_predict_d=model.predict(X_train_d)\n",
        "test_predict_d=model.predict(X_test_d)\n",
        "train_predict_r=model.predict(X_train_r)\n",
        "test_predict_r=model.predict(X_test_r)"
      ],
      "execution_count": 213,
      "outputs": []
    },
    {
      "cell_type": "code",
      "metadata": {
        "id": "zSs0jwkesltz"
      },
      "source": [
        "##Transformback to original form\n",
        "train_predict_d=scaler.inverse_transform(train_predict_d)\n",
        "test_predict_d=scaler.inverse_transform(test_predict_d)\n",
        "train_predict_r=scaler.inverse_transform(train_predict_r)\n",
        "test_predict_r=scaler.inverse_transform(test_predict_r)"
      ],
      "execution_count": 214,
      "outputs": []
    },
    {
      "cell_type": "code",
      "metadata": {
        "colab": {
          "base_uri": "https://localhost:8080/"
        },
        "id": "JN9fTIGetF6p",
        "outputId": "d74d29fd-c275-46c6-d2d3-42a581e341c7"
      },
      "source": [
        "### Calculate RMSE performance metrics (Deaths)\n",
        "import math\n",
        "from sklearn.metrics import mean_squared_error\n",
        "### Train Data RMSE\n",
        "math.sqrt(mean_squared_error(y_train_d,train_predict_d))\n"
      ],
      "execution_count": 215,
      "outputs": [
        {
          "output_type": "execute_result",
          "data": {
            "text/plain": [
              "141846.54073184842"
            ]
          },
          "metadata": {
            "tags": []
          },
          "execution_count": 215
        }
      ]
    },
    {
      "cell_type": "code",
      "metadata": {
        "colab": {
          "base_uri": "https://localhost:8080/"
        },
        "id": "z5MgMM4HtI62",
        "outputId": "caf63367-b340-4850-844d-ef1a92b22fe4"
      },
      "source": [
        "### Test Data RMSE (Deaths)\n",
        "math.sqrt(mean_squared_error(ytest_d,test_predict_d))"
      ],
      "execution_count": 216,
      "outputs": [
        {
          "output_type": "execute_result",
          "data": {
            "text/plain": [
              "282654.9166840575"
            ]
          },
          "metadata": {
            "tags": []
          },
          "execution_count": 216
        }
      ]
    },
    {
      "cell_type": "code",
      "metadata": {
        "colab": {
          "base_uri": "https://localhost:8080/"
        },
        "id": "Abmajmrkc97P",
        "outputId": "bed5abb5-d90b-4ef1-c1f7-3409f918785e"
      },
      "source": [
        "###train data RMSE (Recovered)\n",
        "math.sqrt(mean_squared_error(y_train_r,train_predict_r))"
      ],
      "execution_count": 217,
      "outputs": [
        {
          "output_type": "execute_result",
          "data": {
            "text/plain": [
              "158200.80436233518"
            ]
          },
          "metadata": {
            "tags": []
          },
          "execution_count": 217
        }
      ]
    },
    {
      "cell_type": "code",
      "metadata": {
        "colab": {
          "base_uri": "https://localhost:8080/"
        },
        "id": "xf4XnGgQdB2R",
        "outputId": "fe90f841-f025-4b95-fb71-d6237973e702"
      },
      "source": [
        "###test data RMSE (recovered)\n",
        "math.sqrt(mean_squared_error(ytest_r,test_predict_r))"
      ],
      "execution_count": 218,
      "outputs": [
        {
          "output_type": "execute_result",
          "data": {
            "text/plain": [
              "305473.4723627965"
            ]
          },
          "metadata": {
            "tags": []
          },
          "execution_count": 218
        }
      ]
    },
    {
      "cell_type": "code",
      "metadata": {
        "colab": {
          "base_uri": "https://localhost:8080/",
          "height": 269
        },
        "id": "G4EkCRsVtRH1",
        "outputId": "82b87633-1e0d-4493-acd4-f4b32d497eb4"
      },
      "source": [
        "### Plotting  \n",
        "# shift train predictions for plotting\n",
        "look_back=10\n",
        "trainPredictPlot = numpy.empty_like(df_deaths)\n",
        "trainPredictPlot[:, :] = np.nan\n",
        "trainPredictPlot[look_back:len(train_predict_d)+look_back, :] = train_predict_d\n",
        "# shift test predictions for plotting\n",
        "testPredictPlot = numpy.empty_like(df_deaths)\n",
        "testPredictPlot[:, :] = numpy.nan\n",
        "testPredictPlot[len(train_predict_d)+(look_back*2)+1:len(df_deaths)-1, :] = test_predict_d\n",
        "# plot baseline and predictions\n",
        "plt.plot(scaler.inverse_transform(df_deaths))\n",
        "plt.plot(trainPredictPlot)\n",
        "plt.plot(testPredictPlot)\n",
        "plt.show()"
      ],
      "execution_count": 219,
      "outputs": [
        {
          "output_type": "display_data",
          "data": {
            "image/png": "[encoded data removed]",
            "text/plain": [
              "<Figure size 432x288 with 1 Axes>"
            ]
          },
          "metadata": {
            "tags": [],
            "needs_background": "light"
          }
        }
      ]
    },
    {
      "cell_type": "code",
      "metadata": {
        "colab": {
          "base_uri": "https://localhost:8080/",
          "height": 269
        },
        "id": "-kEGfreJd1ji",
        "outputId": "bb05490c-a0d0-40b6-b0aa-142c223f91cc"
      },
      "source": [
        "### Plotting \n",
        "# shift train predictions for plotting\n",
        "look_back=10\n",
        "trainPredictPlot = numpy.empty_like(df_recovered)\n",
        "trainPredictPlot[:, :] = np.nan\n",
        "trainPredictPlot[look_back:len(train_predict_r)+look_back, :] = train_predict_r\n",
        "# shift test predictions for plotting\n",
        "testPredictPlot = numpy.empty_like(df_recovered)\n",
        "testPredictPlot[:, :] = numpy.nan\n",
        "testPredictPlot[len(train_predict_r)+(look_back*2)+1:len(df_recovered)-1, :] = test_predict_r\n",
        "# plot baseline and predictions\n",
        "plt.plot(scaler.inverse_transform(df_recovered))\n",
        "plt.plot(trainPredictPlot)\n",
        "plt.plot(testPredictPlot)\n",
        "plt.show()"
      ],
      "execution_count": 220,
      "outputs": [
        {
          "output_type": "display_data",
          "data": {
            "image/png": "[encoded data removed]",
            "text/plain": [
              "<Figure size 432x288 with 1 Axes>"
            ]
          },
          "metadata": {
            "tags": [],
            "needs_background": "light"
          }
        }
      ]
    },
    {
      "cell_type": "code",
      "metadata": {
        "id": "421Mtqi1tWey",
        "colab": {
          "base_uri": "https://localhost:8080/"
        },
        "outputId": "f7dbcada-9e79-468c-e44e-6f218b2727dc"
      },
      "source": [
        "len(test_data_d)"
      ],
      "execution_count": 221,
      "outputs": [
        {
          "output_type": "execute_result",
          "data": {
            "text/plain": [
              "78"
            ]
          },
          "metadata": {
            "tags": []
          },
          "execution_count": 221
        }
      ]
    },
    {
      "cell_type": "code",
      "metadata": {
        "colab": {
          "base_uri": "https://localhost:8080/"
        },
        "id": "LWGdygJ9pyTh",
        "outputId": "d74ebaa9-1d1f-49b6-e6c1-fa5679dba625"
      },
      "source": [
        "x_input_d=test_data_d[68:].reshape(1,-1)\n",
        "x_input_d.shape"
      ],
      "execution_count": 222,
      "outputs": [
        {
          "output_type": "execute_result",
          "data": {
            "text/plain": [
              "(1, 10)"
            ]
          },
          "metadata": {
            "tags": []
          },
          "execution_count": 222
        }
      ]
    },
    {
      "cell_type": "code",
      "metadata": {
        "id": "Os0VUK1qp1Nc"
      },
      "source": [
        "temp_input_d=list(x_input_d)\n",
        "temp_input_d=temp_input_d[0].tolist()"
      ],
      "execution_count": 223,
      "outputs": []
    },
    {
      "cell_type": "code",
      "metadata": {
        "colab": {
          "base_uri": "https://localhost:8080/"
        },
        "id": "JJ1FkizvgB2K",
        "outputId": "65e883fe-2ce8-4df6-c549-15d1c6fbc990"
      },
      "source": [
        "temp_input_d"
      ],
      "execution_count": 224,
      "outputs": [
        {
          "output_type": "execute_result",
          "data": {
            "text/plain": [
              "[0.9080650252525253,\n",
              " 0.9154829545454546,\n",
              " 0.9236111111111112,\n",
              " 0.9327651515151516,\n",
              " 0.9424715909090909,\n",
              " 0.953598484848485,\n",
              " 0.964251893939394,\n",
              " 0.9752209595959597,\n",
              " 0.9872948232323233,\n",
              " 1.0]"
            ]
          },
          "metadata": {
            "tags": []
          },
          "execution_count": 224
        }
      ]
    },
    {
      "cell_type": "code",
      "metadata": {
        "colab": {
          "base_uri": "https://localhost:8080/"
        },
        "id": "uXpc-RXofp6J",
        "outputId": "1d321e2f-59a3-47fa-9c23-2b2f5171f6d0"
      },
      "source": [
        "len(test_data_r)"
      ],
      "execution_count": 225,
      "outputs": [
        {
          "output_type": "execute_result",
          "data": {
            "text/plain": [
              "78"
            ]
          },
          "metadata": {
            "tags": []
          },
          "execution_count": 225
        }
      ]
    },
    {
      "cell_type": "code",
      "metadata": {
        "colab": {
          "base_uri": "https://localhost:8080/"
        },
        "id": "UFz73_E6fxuw",
        "outputId": "6b5effe1-6c06-413d-acc1-2ec2cc4f9975"
      },
      "source": [
        "x_input_r=test_data_r[68:].reshape(1,-1)\n",
        "x_input_r.shape"
      ],
      "execution_count": 226,
      "outputs": [
        {
          "output_type": "execute_result",
          "data": {
            "text/plain": [
              "(1, 10)"
            ]
          },
          "metadata": {
            "tags": []
          },
          "execution_count": 226
        }
      ]
    },
    {
      "cell_type": "code",
      "metadata": {
        "id": "2PbiblgYf4zA"
      },
      "source": [
        "temp_input_r=list(x_input_r)\n",
        "temp_input_r=temp_input_r[0].tolist()"
      ],
      "execution_count": 227,
      "outputs": []
    },
    {
      "cell_type": "code",
      "metadata": {
        "colab": {
          "base_uri": "https://localhost:8080/"
        },
        "id": "BWizJ9MjpG35",
        "outputId": "29ced7c0-9cd7-4ebd-aa32-1ad0c9053dd2"
      },
      "source": [
        "temp_input_r"
      ],
      "execution_count": 228,
      "outputs": [
        {
          "output_type": "execute_result",
          "data": {
            "text/plain": [
              "[0.9268651279323005,\n",
              " 0.9339726235621866,\n",
              " 0.9410172210006578,\n",
              " 0.9478102256734692,\n",
              " 0.9554575974463334,\n",
              " 0.9633696657747353,\n",
              " 0.9718425763099203,\n",
              " 0.9818329057129902,\n",
              " 0.9903608521656633,\n",
              " 0.9999999999999999]"
            ]
          },
          "metadata": {
            "tags": []
          },
          "execution_count": 228
        }
      ]
    },
    {
      "cell_type": "code",
      "metadata": {
        "colab": {
          "base_uri": "https://localhost:8080/"
        },
        "id": "gLoQPF8FqAl3",
        "outputId": "b411384d-2ae4-4b26-dc94-c197979500ed"
      },
      "source": [
        "# demonstrate deaths prediction for next 30 days\n",
        "from numpy import array\n",
        "\n",
        "lst_output_d=[]\n",
        "n_steps=10\n",
        "i=0\n",
        "while(i<30):\n",
        "    \n",
        "    if(len(temp_input_d)>10):\n",
        "        #print(temp_input)\n",
        "        x_input_d=np.array(temp_input_d[1:])\n",
        "        print(\"{} day input {}\".format(i,x_input_d))\n",
        "        x_input_d=x_input_d.reshape(1,-1)\n",
        "        x_input_d = x_input_d.reshape((1, n_steps, 1))\n",
        "        #print(x_input_d)\n",
        "        yhat_d = model.predict(x_input_d, verbose=0)\n",
        "        print(\"{} day output {}\".format(i,yhat_d))\n",
        "        temp_input_d.extend(yhat_d[0].tolist())\n",
        "        temp_input_d=temp_input_d[1:]\n",
        "        #print(temp_input_d)\n",
        "        lst_output_d.extend(yhat_d.tolist())\n",
        "        i=i+1\n",
        "    else:\n",
        "        x_input_d = x_input_d.reshape((1, n_steps,1))\n",
        "        yhat_d = model.predict(x_input_d, verbose=0)\n",
        "        print(yhat_d[0])\n",
        "        temp_input_d.extend(yhat_d[0].tolist())\n",
        "        print(len(temp_input_d))\n",
        "        lst_output_d.extend(yhat_d.tolist())\n",
        "        i=i+1\n",
        "    \n",
        "\n",
        "print(lst_output_d)"
      ],
      "execution_count": 229,
      "outputs": [
        {
          "output_type": "stream",
          "text": [
            "[0.9313629]\n",
            "11\n",
            "1 day input [0.91548295 0.92361111 0.93276515 0.94247159 0.95359848 0.96425189\n",
            " 0.97522096 0.98729482 1.         0.93136293]\n",
            "1 day output [[0.9385132]]\n",
            "2 day input [0.92361111 0.93276515 0.94247159 0.95359848 0.96425189 0.97522096\n",
            " 0.98729482 1.         0.93136293 0.93851322]\n",
            "2 day output [[0.9443106]]\n",
            "3 day input [0.93276515 0.94247159 0.95359848 0.96425189 0.97522096 0.98729482\n",
            " 1.         0.93136293 0.93851322 0.94431061]\n",
            "3 day output [[0.9484839]]\n",
            "4 day input [0.94247159 0.95359848 0.96425189 0.97522096 0.98729482 1.\n",
            " 0.93136293 0.93851322 0.94431061 0.94848388]\n",
            "4 day output [[0.9509448]]\n",
            "5 day input [0.95359848 0.96425189 0.97522096 0.98729482 1.         0.93136293\n",
            " 0.93851322 0.94431061 0.94848388 0.95094478]\n",
            "5 day output [[0.9517578]]\n",
            "6 day input [0.96425189 0.97522096 0.98729482 1.         0.93136293 0.93851322\n",
            " 0.94431061 0.94848388 0.95094478 0.95175779]\n",
            "6 day output [[0.95096225]]\n",
            "7 day input [0.97522096 0.98729482 1.         0.93136293 0.93851322 0.94431061\n",
            " 0.94848388 0.95094478 0.95175779 0.95096225]\n",
            "7 day output [[0.94879276]]\n",
            "8 day input [0.98729482 1.         0.93136293 0.93851322 0.94431061 0.94848388\n",
            " 0.95094478 0.95175779 0.95096225 0.94879276]\n",
            "8 day output [[0.9454375]]\n",
            "9 day input [1.         0.93136293 0.93851322 0.94431061 0.94848388 0.95094478\n",
            " 0.95175779 0.95096225 0.94879276 0.94543749]\n",
            "9 day output [[0.9410979]]\n",
            "10 day input [0.93136293 0.93851322 0.94431061 0.94848388 0.95094478 0.95175779\n",
            " 0.95096225 0.94879276 0.94543749 0.94109792]\n",
            "10 day output [[0.93616134]]\n",
            "11 day input [0.93851322 0.94431061 0.94848388 0.95094478 0.95175779 0.95096225\n",
            " 0.94879276 0.94543749 0.94109792 0.93616134]\n",
            "11 day output [[0.93769944]]\n",
            "12 day input [0.94431061 0.94848388 0.95094478 0.95175779 0.95096225 0.94879276\n",
            " 0.94543749 0.94109792 0.93616134 0.93769944]\n",
            "12 day output [[0.938138]]\n",
            "13 day input [0.94848388 0.95094478 0.95175779 0.95096225 0.94879276 0.94543749\n",
            " 0.94109792 0.93616134 0.93769944 0.93813801]\n",
            "13 day output [[0.9376822]]\n",
            "14 day input [0.95094478 0.95175779 0.95096225 0.94879276 0.94543749 0.94109792\n",
            " 0.93616134 0.93769944 0.93813801 0.93768221]\n",
            "14 day output [[0.9365797]]\n",
            "15 day input [0.95175779 0.95096225 0.94879276 0.94543749 0.94109792 0.93616134\n",
            " 0.93769944 0.93813801 0.93768221 0.9365797 ]\n",
            "15 day output [[0.93507767]]\n",
            "16 day input [0.95096225 0.94879276 0.94543749 0.94109792 0.93616134 0.93769944\n",
            " 0.93813801 0.93768221 0.9365797  0.93507767]\n",
            "16 day output [[0.93339837]]\n",
            "17 day input [0.94879276 0.94543749 0.94109792 0.93616134 0.93769944 0.93813801\n",
            " 0.93768221 0.9365797  0.93507767 0.93339837]\n",
            "17 day output [[0.931736]]\n",
            "18 day input [0.94543749 0.94109792 0.93616134 0.93769944 0.93813801 0.93768221\n",
            " 0.9365797  0.93507767 0.93339837 0.93173599]\n",
            "18 day output [[0.930238]]\n",
            "19 day input [0.94109792 0.93616134 0.93769944 0.93813801 0.93768221 0.9365797\n",
            " 0.93507767 0.93339837 0.93173599 0.93023801]\n",
            "19 day output [[0.9290073]]\n",
            "20 day input [0.93616134 0.93769944 0.93813801 0.93768221 0.9365797  0.93507767\n",
            " 0.93339837 0.93173599 0.93023801 0.92900729]\n",
            "20 day output [[0.9280985]]\n",
            "21 day input [0.93769944 0.93813801 0.93768221 0.9365797  0.93507767 0.93339837\n",
            " 0.93173599 0.93023801 0.92900729 0.9280985 ]\n",
            "21 day output [[0.9274986]]\n",
            "22 day input [0.93813801 0.93768221 0.9365797  0.93507767 0.93339837 0.93173599\n",
            " 0.93023801 0.92900729 0.9280985  0.92749858]\n",
            "22 day output [[0.9265913]]\n",
            "23 day input [0.93768221 0.9365797  0.93507767 0.93339837 0.93173599 0.93023801\n",
            " 0.92900729 0.9280985  0.92749858 0.92659128]\n",
            "23 day output [[0.92551863]]\n",
            "24 day input [0.9365797  0.93507767 0.93339837 0.93173599 0.93023801 0.92900729\n",
            " 0.9280985  0.92749858 0.92659128 0.92551863]\n",
            "24 day output [[0.92439127]]\n",
            "25 day input [0.93507767 0.93339837 0.93173599 0.93023801 0.92900729 0.9280985\n",
            " 0.92749858 0.92659128 0.92551863 0.92439127]\n",
            "25 day output [[0.9232851]]\n",
            "26 day input [0.93339837 0.93173599 0.93023801 0.92900729 0.9280985  0.92749858\n",
            " 0.92659128 0.92551863 0.92439127 0.92328513]\n",
            "26 day output [[0.9222429]]\n",
            "27 day input [0.93173599 0.93023801 0.92900729 0.9280985  0.92749858 0.92659128\n",
            " 0.92551863 0.92439127 0.92328513 0.92224288]\n",
            "27 day output [[0.92127895]]\n",
            "28 day input [0.93023801 0.92900729 0.9280985  0.92749858 0.92659128 0.92551863\n",
            " 0.92439127 0.92328513 0.92224288 0.92127895]\n",
            "28 day output [[0.920386]]\n",
            "29 day input [0.92900729 0.9280985  0.92749858 0.92659128 0.92551863 0.92439127\n",
            " 0.92328513 0.92224288 0.92127895 0.92038602]\n",
            "29 day output [[0.9195425]]\n",
            "[[0.9313629269599915], [0.9385132193565369], [0.9443106055259705], [0.9484838843345642], [0.9509447813034058], [0.9517577886581421], [0.950962245464325], [0.9487927556037903], [0.945437490940094], [0.9410979151725769], [0.9361613392829895], [0.9376994371414185], [0.9381380081176758], [0.9376822113990784], [0.936579704284668], [0.9350776672363281], [0.9333983659744263], [0.9317359924316406], [0.9302380084991455], [0.9290072917938232], [0.9280984997749329], [0.9274985790252686], [0.9265912771224976], [0.9255186319351196], [0.9243912696838379], [0.9232851266860962], [0.9222428798675537], [0.9212789535522461], [0.920386016368866], [0.9195424914360046]]\n"
          ],
          "name": "stdout"
        }
      ]
    },
    {
      "cell_type": "code",
      "metadata": {
        "id": "JmJt2m_nqMpE"
      },
      "source": [
        "day_new_d=np.arange(1,11)\n",
        "day_pred_d=np.arange(11,41)"
      ],
      "execution_count": 230,
      "outputs": []
    },
    {
      "cell_type": "code",
      "metadata": {
        "id": "H32QbjiDzLZp"
      },
      "source": [
        "import matplotlib.pyplot as plt"
      ],
      "execution_count": 231,
      "outputs": []
    },
    {
      "cell_type": "code",
      "metadata": {
        "colab": {
          "base_uri": "https://localhost:8080/"
        },
        "id": "L0bXp-hW0AkO",
        "outputId": "e3419e1d-706b-4e37-c2ca-8c5f7c76a7fc"
      },
      "source": [
        "len(df_deaths)"
      ],
      "execution_count": 232,
      "outputs": [
        {
          "output_type": "execute_result",
          "data": {
            "text/plain": [
              "259"
            ]
          },
          "metadata": {
            "tags": []
          },
          "execution_count": 232
        }
      ]
    },
    {
      "cell_type": "code",
      "metadata": {
        "colab": {
          "base_uri": "https://localhost:8080/",
          "height": 283
        },
        "id": "1kdxUEBX0DUi",
        "outputId": "c5af7fb4-6c6f-4400-892c-54d7f2f75bb3"
      },
      "source": [
        "plt.plot(day_new_d,scaler.inverse_transform(df_deaths[249:]))\n",
        "plt.plot(day_pred_d,scaler.inverse_transform(lst_output_d))"
      ],
      "execution_count": 233,
      "outputs": [
        {
          "output_type": "execute_result",
          "data": {
            "text/plain": [
              "[<matplotlib.lines.Line2D at 0x7f61bffbf898>]"
            ]
          },
          "metadata": {
            "tags": []
          },
          "execution_count": 233
        },
        {
          "output_type": "display_data",
          "data": {
            "image/png": "[encoded data removed]",
            "text/plain": [
              "<Figure size 432x288 with 1 Axes>"
            ]
          },
          "metadata": {
            "tags": [],
            "needs_background": "light"
          }
        }
      ]
    },
    {
      "cell_type": "code",
      "metadata": {
        "colab": {
          "base_uri": "https://localhost:8080/",
          "height": 299
        },
        "id": "YBmPlXM50SPR",
        "outputId": "902c7b64-a5cc-47ba-ba13-8578fc37b26f"
      },
      "source": [
        "df3=df_deaths.tolist()\n",
        "df3.extend(lst_output_d)\n",
        "plt.plot(df3, 'r')\n",
        "plt.plot(df_deaths, 'g')\n",
        "plt.title('Covid19 Deaths Prediction')\n",
        "plt.legend(['Predicted', 'Actual'])"
      ],
      "execution_count": 234,
      "outputs": [
        {
          "output_type": "execute_result",
          "data": {
            "text/plain": [
              "<matplotlib.legend.Legend at 0x7f61bff1df60>"
            ]
          },
          "metadata": {
            "tags": []
          },
          "execution_count": 234
        },
        {
          "output_type": "display_data",
          "data": {
            "image/png": "[encoded data removed]",
            "text/plain": [
              "<Figure size 432x288 with 1 Axes>"
            ]
          },
          "metadata": {
            "tags": [],
            "needs_background": "light"
          }
        }
      ]
    },
    {
      "cell_type": "code",
      "metadata": {
        "colab": {
          "base_uri": "https://localhost:8080/"
        },
        "id": "e2BDkz6PqjoW",
        "outputId": "37b21ddc-a15f-4376-f162-bb0eb840ab19"
      },
      "source": [
        "# demonstrate recovered prediction for next 30 days\n",
        "from numpy import array\n",
        "lst_output_r=[]\n",
        "n_steps=10\n",
        "i=0\n",
        "while(i<30):\n",
        "    \n",
        "    if(len(temp_input_r)>10):\n",
        "        #print(temp_input_r)\n",
        "        x_input_r=np.array(temp_input_r[1:])\n",
        "        print(\"{} day input {}\".format(i,x_input_r))\n",
        "        x_input_r=x_input_r.reshape(1,-1)\n",
        "        x_input_r = x_input_r.reshape((1, n_steps, 1))\n",
        "        #print(x_input_r)\n",
        "        yhat_r = model.predict(x_input_r, verbose=0)\n",
        "        print(\"{} day output {}\".format(i,yhat_r))\n",
        "        temp_input_r.extend(yhat_r[0].tolist())\n",
        "        temp_input_r=temp_input_r[1:]\n",
        "        #print(temp_input_r)\n",
        "        lst_output_r.extend(yhat_r.tolist())\n",
        "        i=i+1\n",
        "    else:\n",
        "        x_input_r = x_input_r.reshape((1, n_steps,1))\n",
        "        yhat_r = model.predict(x_input_r, verbose=0)\n",
        "        print(yhat_r[0])\n",
        "        temp_input_r.extend(yhat_d[0].tolist())\n",
        "        print(len(temp_input_r))\n",
        "        lst_output_r.extend(yhat_r.tolist())\n",
        "        i=i+1\n",
        "    \n",
        "\n",
        "print(lst_output_r)"
      ],
      "execution_count": 235,
      "outputs": [
        {
          "output_type": "stream",
          "text": [
            "[0.94264275]\n",
            "11\n",
            "1 day input [0.93397262 0.94101722 0.94781023 0.9554576  0.96336967 0.97184258\n",
            " 0.98183291 0.99036085 1.         0.91954249]\n",
            "1 day output [[0.9479206]]\n",
            "2 day input [0.94101722 0.94781023 0.9554576  0.96336967 0.97184258 0.98183291\n",
            " 0.99036085 1.         0.91954249 0.94792062]\n",
            "2 day output [[0.9517941]]\n",
            "3 day input [0.94781023 0.9554576  0.96336967 0.97184258 0.98183291 0.99036085\n",
            " 1.         0.91954249 0.94792062 0.95179409]\n",
            "3 day output [[0.9542169]]\n",
            "4 day input [0.9554576  0.96336967 0.97184258 0.98183291 0.99036085 1.\n",
            " 0.91954249 0.94792062 0.95179409 0.9542169 ]\n",
            "4 day output [[0.9552829]]\n",
            "5 day input [0.96336967 0.97184258 0.98183291 0.99036085 1.         0.91954249\n",
            " 0.94792062 0.95179409 0.9542169  0.95528293]\n",
            "5 day output [[0.9550368]]\n",
            "6 day input [0.97184258 0.98183291 0.99036085 1.         0.91954249 0.94792062\n",
            " 0.95179409 0.9542169  0.95528293 0.95503682]\n",
            "6 day output [[0.9535969]]\n",
            "7 day input [0.98183291 0.99036085 1.         0.91954249 0.94792062 0.95179409\n",
            " 0.9542169  0.95528293 0.95503682 0.95359689]\n",
            "7 day output [[0.9510658]]\n",
            "8 day input [0.99036085 1.         0.91954249 0.94792062 0.95179409 0.9542169\n",
            " 0.95528293 0.95503682 0.95359689 0.95106578]\n",
            "8 day output [[0.9475082]]\n",
            "9 day input [1.         0.91954249 0.94792062 0.95179409 0.9542169  0.95528293\n",
            " 0.95503682 0.95359689 0.95106578 0.94750822]\n",
            "9 day output [[0.94333977]]\n",
            "10 day input [0.91954249 0.94792062 0.95179409 0.9542169  0.95528293 0.95503682\n",
            " 0.95359689 0.95106578 0.94750822 0.94333977]\n",
            "10 day output [[0.9388494]]\n",
            "11 day input [0.94792062 0.95179409 0.9542169  0.95528293 0.95503682 0.95359689\n",
            " 0.95106578 0.94750822 0.94333977 0.93884939]\n",
            "11 day output [[0.9417131]]\n",
            "12 day input [0.95179409 0.9542169  0.95528293 0.95503682 0.95359689 0.95106578\n",
            " 0.94750822 0.94333977 0.93884939 0.94171309]\n",
            "12 day output [[0.94140166]]\n",
            "13 day input [0.9542169  0.95528293 0.95503682 0.95359689 0.95106578 0.94750822\n",
            " 0.94333977 0.93884939 0.94171309 0.94140166]\n",
            "13 day output [[0.9404357]]\n",
            "14 day input [0.95528293 0.95503682 0.95359689 0.95106578 0.94750822 0.94333977\n",
            " 0.93884939 0.94171309 0.94140166 0.94043571]\n",
            "14 day output [[0.9390335]]\n",
            "15 day input [0.95503682 0.95359689 0.95106578 0.94750822 0.94333977 0.93884939\n",
            " 0.94171309 0.94140166 0.94043571 0.93903351]\n",
            "15 day output [[0.9373904]]\n",
            "16 day input [0.95359689 0.95106578 0.94750822 0.94333977 0.93884939 0.94171309\n",
            " 0.94140166 0.94043571 0.93903351 0.93739039]\n",
            "16 day output [[0.9356783]]\n",
            "17 day input [0.95106578 0.94750822 0.94333977 0.93884939 0.94171309 0.94140166\n",
            " 0.94043571 0.93903351 0.93739039 0.9356783 ]\n",
            "17 day output [[0.93403864]]\n",
            "18 day input [0.94750822 0.94333977 0.93884939 0.94171309 0.94140166 0.94043571\n",
            " 0.93903351 0.93739039 0.9356783  0.93403864]\n",
            "18 day output [[0.93258286]]\n",
            "19 day input [0.94333977 0.93884939 0.94171309 0.94140166 0.94043571 0.93903351\n",
            " 0.93739039 0.9356783  0.93403864 0.93258286]\n",
            "19 day output [[0.9313923]]\n",
            "20 day input [0.93884939 0.94171309 0.94140166 0.94043571 0.93903351 0.93739039\n",
            " 0.9356783  0.93403864 0.93258286 0.93139231]\n",
            "20 day output [[0.9304846]]\n",
            "21 day input [0.94171309 0.94140166 0.94043571 0.93903351 0.93739039 0.9356783\n",
            " 0.93403864 0.93258286 0.93139231 0.93048459]\n",
            "21 day output [[0.9298257]]\n",
            "22 day input [0.94140166 0.94043571 0.93903351 0.93739039 0.9356783  0.93403864\n",
            " 0.93258286 0.93139231 0.93048459 0.92982572]\n",
            "22 day output [[0.9287386]]\n",
            "23 day input [0.94043571 0.93903351 0.93739039 0.9356783  0.93403864 0.93258286\n",
            " 0.93139231 0.93048459 0.92982572 0.92873859]\n",
            "23 day output [[0.9275665]]\n",
            "24 day input [0.93903351 0.93739039 0.9356783  0.93403864 0.93258286 0.93139231\n",
            " 0.93048459 0.92982572 0.92873859 0.92756653]\n",
            "24 day output [[0.9263901]]\n",
            "25 day input [0.93739039 0.9356783  0.93403864 0.93258286 0.93139231 0.93048459\n",
            " 0.92982572 0.92873859 0.92756653 0.92639011]\n",
            "25 day output [[0.92525953]]\n",
            "26 day input [0.9356783  0.93403864 0.93258286 0.93139231 0.93048459 0.92982572\n",
            " 0.92873859 0.92756653 0.92639011 0.92525953]\n",
            "26 day output [[0.92419875]]\n",
            "27 day input [0.93403864 0.93258286 0.93139231 0.93048459 0.92982572 0.92873859\n",
            " 0.92756653 0.92639011 0.92525953 0.92419875]\n",
            "27 day output [[0.92321116]]\n",
            "28 day input [0.93258286 0.93139231 0.93048459 0.92982572 0.92873859 0.92756653\n",
            " 0.92639011 0.92525953 0.92419875 0.92321116]\n",
            "28 day output [[0.9222849]]\n",
            "29 day input [0.93139231 0.93048459 0.92982572 0.92873859 0.92756653 0.92639011\n",
            " 0.92525953 0.92419875 0.92321116 0.9222849 ]\n",
            "29 day output [[0.9213977]]\n",
            "[[0.9426427483558655], [0.9479206204414368], [0.9517940878868103], [0.9542168974876404], [0.9552829265594482], [0.9550368189811707], [0.9535968899726868], [0.9510657787322998], [0.9475082159042358], [0.9433397650718689], [0.9388493895530701], [0.9417130947113037], [0.9414016604423523], [0.9404357075691223], [0.9390335083007812], [0.9373903870582581], [0.9356783032417297], [0.9340386390686035], [0.9325828552246094], [0.9313923120498657], [0.9304845929145813], [0.9298257231712341], [0.9287385940551758], [0.9275665283203125], [0.9263901114463806], [0.925259530544281], [0.9241987466812134], [0.9232111573219299], [0.9222849011421204], [0.9213976860046387]]\n"
          ],
          "name": "stdout"
        }
      ]
    },
    {
      "cell_type": "code",
      "metadata": {
        "id": "gXAGXI5VqkHj"
      },
      "source": [
        "day_new_r=np.arange(1,11)\n",
        "day_pred_r=np.arange(11,41)"
      ],
      "execution_count": 236,
      "outputs": []
    },
    {
      "cell_type": "code",
      "metadata": {
        "id": "79yuoSqPqksE"
      },
      "source": [
        "import matplotlib.pyplot as plt"
      ],
      "execution_count": 237,
      "outputs": []
    },
    {
      "cell_type": "code",
      "metadata": {
        "colab": {
          "base_uri": "https://localhost:8080/",
          "height": 283
        },
        "id": "VagGtkije7hv",
        "outputId": "415b3b11-1a15-457e-e5f9-1b3940a9b655"
      },
      "source": [
        "plt.plot(day_new_r,scaler.inverse_transform(df_recovered[249:]))\n",
        "plt.plot(day_pred_r,scaler.inverse_transform(lst_output_r))"
      ],
      "execution_count": 238,
      "outputs": [
        {
          "output_type": "execute_result",
          "data": {
            "text/plain": [
              "[<matplotlib.lines.Line2D at 0x7f61bff81cf8>]"
            ]
          },
          "metadata": {
            "tags": []
          },
          "execution_count": 238
        },
        {
          "output_type": "display_data",
          "data": {
            "image/png": "[encoded data removed]",
            "text/plain": [
              "<Figure size 432x288 with 1 Axes>"
            ]
          },
          "metadata": {
            "tags": [],
            "needs_background": "light"
          }
        }
      ]
    },
    {
      "cell_type": "code",
      "metadata": {
        "id": "3x1CnCO60_k0",
        "colab": {
          "base_uri": "https://localhost:8080/",
          "height": 545
        },
        "outputId": "52471b35-5bd0-421d-c5f7-e9fd2961e5ef"
      },
      "source": [
        "df3=df_deaths.tolist()\n",
        "df3.extend(lst_output_d)\n",
        "plt.plot(df3, 'r')\n",
        "plt.plot(df_deaths, 'g')\n",
        "plt.title('Covid19 Deaths forecasting after 30 days')\n",
        "plt.legend(['Predicted', 'Actual'])\n",
        "plt.show()\n",
        "\n",
        "df4=df_recovered.tolist()\n",
        "df4.extend(lst_output_r)\n",
        "plt.plot(df4, 'r')\n",
        "plt.plot(df_recovered, 'b')\n",
        "plt.title('Covid19 Recovered forecasting after 30 days')\n",
        "plt.legend(['Predicted', 'Actual'])\n",
        "plt.show()"
      ],
      "execution_count": 239,
      "outputs": [
        {
          "output_type": "display_data",
          "data": {
            "image/png": "[encoded data removed]",
            "text/plain": [
              "<Figure size 432x288 with 1 Axes>"
            ]
          },
          "metadata": {
            "tags": [],
            "needs_background": "light"
          }
        },
        {
          "output_type": "display_data",
          "data": {
            "image/png": "[encoded data removed]",
            "text/plain": [
              "<Figure size 432x288 with 1 Axes>"
            ]
          },
          "metadata": {
            "tags": [],
            "needs_background": "light"
          }
        }
      ]
    },
    {
      "cell_type": "code",
      "metadata": {
        "id": "DMw0bW1tY2PE"
      },
      "source": [
        ""
      ],
      "execution_count": 239,
      "outputs": []
    }
  ]
}